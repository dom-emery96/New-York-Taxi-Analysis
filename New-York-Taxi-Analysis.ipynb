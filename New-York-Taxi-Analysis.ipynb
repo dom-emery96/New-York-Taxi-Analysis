{
 "cells": [
  {
   "cell_type": "markdown",
   "metadata": {},
   "source": [
    "# Predicting the Average Total Spend of Passengers in a New York City Taxi \n",
    "\n",
    "In this project, we are interested in predicting the average total payment made by passengers in a yellow taxi in New York City based on several input variables which will later be elucidated. In this project, we confine ourselves to a data set covering the month of January 2019. We use a publicly available data set which can be located through the following link:\n",
    "\n",
    "https://www.nyc.gov/site/tlc/about/tlc-trip-record-data.page\n",
    "\n",
    "Alternatively, the .csv data file, along with the data dictionary, can be downloaded via the following link:\n",
    "\n",
    "[yellow_tripdata_2019-01.csv.zip](https://cdn.fs.teachablecdn.com/dkaBwtmyQ0ehTSmzRkeE)"
   ]
  },
  {
   "cell_type": "markdown",
   "metadata": {},
   "source": [
    "## Table of Contents\n",
    "\n",
    "<a id='table_of_contents'></a>\n",
    "\n",
    "0. [Import libraries](#imports)\n",
    "1. [Import data](#import_data)\n",
    "2. [Data exploration](#data_exploration)\n",
    "3. [Data cleaning](#data_cleaning)\n",
    "4. [Data preparation](#data_preparation)\n",
    "5. [Benchmark model](#benchmark_model)<br>\n",
    "6. [Feature engineering](#feature_engineering)\n",
    "7. [Model training](#model_training)<br>\n",
    "    7.1. [Decision Tree](#decision_tree)<br>\n",
    "    7.2. [Random Forest](#random_forest)<br>\n",
    "    7.3. [Comparing algorithm performances](#comparing_algorithm_performances)\n",
    "8. [Tuning](#tuning)<br>"
   ]
  },
  {
   "cell_type": "markdown",
   "metadata": {},
   "source": [
    "## 0. Import libraries <a id='imports'></a>\n",
    "[Back to top](#table_of_contents)\n",
    "\n",
    "We start by importing the Python libraries necessary for our analysis."
   ]
  },
  {
   "cell_type": "code",
   "execution_count": 1,
   "metadata": {},
   "outputs": [],
   "source": [
    "import pandas as pd\n",
    "import numpy as np\n",
    "%matplotlib inline"
   ]
  },
  {
   "cell_type": "markdown",
   "metadata": {},
   "source": [
    "## 1. Import data <a id='import_data'></a>\n",
    "[Back to top](#table_of_contents)\n",
    "\n",
    "We then import the data set as a pandas data frame. We use the concat function to fascilitate the possibility of combining data sets corresponding to different months in $2019$."
   ]
  },
  {
   "cell_type": "code",
   "execution_count": 2,
   "metadata": {},
   "outputs": [],
   "source": [
    "# January data set\n",
    "taxi_jan_2019 = pd.read_csv(\"data/yellow_tripdata_2019-01.csv\")\n",
    "\n",
    "# Framework for merging February, March, ... data sets with the above\n",
    "taxi_data = pd.concat([taxi_jan_2019])"
   ]
  },
  {
   "cell_type": "markdown",
   "metadata": {},
   "source": [
    "To get a preliminary sense of the data set we are working with, we use the .shape function to determine the number of rows and series (columns) in the data frame, and the .head() function to visualise the first five rows of each series."
   ]
  },
  {
   "cell_type": "code",
   "execution_count": 3,
   "metadata": {},
   "outputs": [
    {
     "name": "stdout",
     "output_type": "stream",
     "text": [
      "(7667792, 18)\n"
     ]
    },
    {
     "data": {
      "text/html": [
       "<div>\n",
       "<style scoped>\n",
       "    .dataframe tbody tr th:only-of-type {\n",
       "        vertical-align: middle;\n",
       "    }\n",
       "\n",
       "    .dataframe tbody tr th {\n",
       "        vertical-align: top;\n",
       "    }\n",
       "\n",
       "    .dataframe thead th {\n",
       "        text-align: right;\n",
       "    }\n",
       "</style>\n",
       "<table border=\"1\" class=\"dataframe\">\n",
       "  <thead>\n",
       "    <tr style=\"text-align: right;\">\n",
       "      <th></th>\n",
       "      <th>VendorID</th>\n",
       "      <th>tpep_pickup_datetime</th>\n",
       "      <th>tpep_dropoff_datetime</th>\n",
       "      <th>passenger_count</th>\n",
       "      <th>trip_distance</th>\n",
       "      <th>RatecodeID</th>\n",
       "      <th>store_and_fwd_flag</th>\n",
       "      <th>PULocationID</th>\n",
       "      <th>DOLocationID</th>\n",
       "      <th>payment_type</th>\n",
       "      <th>fare_amount</th>\n",
       "      <th>extra</th>\n",
       "      <th>mta_tax</th>\n",
       "      <th>tip_amount</th>\n",
       "      <th>tolls_amount</th>\n",
       "      <th>improvement_surcharge</th>\n",
       "      <th>total_amount</th>\n",
       "      <th>congestion_surcharge</th>\n",
       "    </tr>\n",
       "  </thead>\n",
       "  <tbody>\n",
       "    <tr>\n",
       "      <th>0</th>\n",
       "      <td>1</td>\n",
       "      <td>2019-01-01 00:46:40</td>\n",
       "      <td>2019-01-01 00:53:20</td>\n",
       "      <td>1</td>\n",
       "      <td>1.5</td>\n",
       "      <td>1</td>\n",
       "      <td>N</td>\n",
       "      <td>151</td>\n",
       "      <td>239</td>\n",
       "      <td>1</td>\n",
       "      <td>7.0</td>\n",
       "      <td>0.5</td>\n",
       "      <td>0.5</td>\n",
       "      <td>1.65</td>\n",
       "      <td>0.0</td>\n",
       "      <td>0.3</td>\n",
       "      <td>9.95</td>\n",
       "      <td>NaN</td>\n",
       "    </tr>\n",
       "    <tr>\n",
       "      <th>1</th>\n",
       "      <td>1</td>\n",
       "      <td>2019-01-01 00:59:47</td>\n",
       "      <td>2019-01-01 01:18:59</td>\n",
       "      <td>1</td>\n",
       "      <td>2.6</td>\n",
       "      <td>1</td>\n",
       "      <td>N</td>\n",
       "      <td>239</td>\n",
       "      <td>246</td>\n",
       "      <td>1</td>\n",
       "      <td>14.0</td>\n",
       "      <td>0.5</td>\n",
       "      <td>0.5</td>\n",
       "      <td>1.00</td>\n",
       "      <td>0.0</td>\n",
       "      <td>0.3</td>\n",
       "      <td>16.30</td>\n",
       "      <td>NaN</td>\n",
       "    </tr>\n",
       "    <tr>\n",
       "      <th>2</th>\n",
       "      <td>2</td>\n",
       "      <td>2018-12-21 13:48:30</td>\n",
       "      <td>2018-12-21 13:52:40</td>\n",
       "      <td>3</td>\n",
       "      <td>0.0</td>\n",
       "      <td>1</td>\n",
       "      <td>N</td>\n",
       "      <td>236</td>\n",
       "      <td>236</td>\n",
       "      <td>1</td>\n",
       "      <td>4.5</td>\n",
       "      <td>0.5</td>\n",
       "      <td>0.5</td>\n",
       "      <td>0.00</td>\n",
       "      <td>0.0</td>\n",
       "      <td>0.3</td>\n",
       "      <td>5.80</td>\n",
       "      <td>NaN</td>\n",
       "    </tr>\n",
       "    <tr>\n",
       "      <th>3</th>\n",
       "      <td>2</td>\n",
       "      <td>2018-11-28 15:52:25</td>\n",
       "      <td>2018-11-28 15:55:45</td>\n",
       "      <td>5</td>\n",
       "      <td>0.0</td>\n",
       "      <td>1</td>\n",
       "      <td>N</td>\n",
       "      <td>193</td>\n",
       "      <td>193</td>\n",
       "      <td>2</td>\n",
       "      <td>3.5</td>\n",
       "      <td>0.5</td>\n",
       "      <td>0.5</td>\n",
       "      <td>0.00</td>\n",
       "      <td>0.0</td>\n",
       "      <td>0.3</td>\n",
       "      <td>7.55</td>\n",
       "      <td>NaN</td>\n",
       "    </tr>\n",
       "    <tr>\n",
       "      <th>4</th>\n",
       "      <td>2</td>\n",
       "      <td>2018-11-28 15:56:57</td>\n",
       "      <td>2018-11-28 15:58:33</td>\n",
       "      <td>5</td>\n",
       "      <td>0.0</td>\n",
       "      <td>2</td>\n",
       "      <td>N</td>\n",
       "      <td>193</td>\n",
       "      <td>193</td>\n",
       "      <td>2</td>\n",
       "      <td>52.0</td>\n",
       "      <td>0.0</td>\n",
       "      <td>0.5</td>\n",
       "      <td>0.00</td>\n",
       "      <td>0.0</td>\n",
       "      <td>0.3</td>\n",
       "      <td>55.55</td>\n",
       "      <td>NaN</td>\n",
       "    </tr>\n",
       "  </tbody>\n",
       "</table>\n",
       "</div>"
      ],
      "text/plain": [
       "   VendorID tpep_pickup_datetime tpep_dropoff_datetime  passenger_count  \\\n",
       "0         1  2019-01-01 00:46:40   2019-01-01 00:53:20                1   \n",
       "1         1  2019-01-01 00:59:47   2019-01-01 01:18:59                1   \n",
       "2         2  2018-12-21 13:48:30   2018-12-21 13:52:40                3   \n",
       "3         2  2018-11-28 15:52:25   2018-11-28 15:55:45                5   \n",
       "4         2  2018-11-28 15:56:57   2018-11-28 15:58:33                5   \n",
       "\n",
       "   trip_distance  RatecodeID store_and_fwd_flag  PULocationID  DOLocationID  \\\n",
       "0            1.5           1                  N           151           239   \n",
       "1            2.6           1                  N           239           246   \n",
       "2            0.0           1                  N           236           236   \n",
       "3            0.0           1                  N           193           193   \n",
       "4            0.0           2                  N           193           193   \n",
       "\n",
       "   payment_type  fare_amount  extra  mta_tax  tip_amount  tolls_amount  \\\n",
       "0             1          7.0    0.5      0.5        1.65           0.0   \n",
       "1             1         14.0    0.5      0.5        1.00           0.0   \n",
       "2             1          4.5    0.5      0.5        0.00           0.0   \n",
       "3             2          3.5    0.5      0.5        0.00           0.0   \n",
       "4             2         52.0    0.0      0.5        0.00           0.0   \n",
       "\n",
       "   improvement_surcharge  total_amount  congestion_surcharge  \n",
       "0                    0.3          9.95                   NaN  \n",
       "1                    0.3         16.30                   NaN  \n",
       "2                    0.3          5.80                   NaN  \n",
       "3                    0.3          7.55                   NaN  \n",
       "4                    0.3         55.55                   NaN  "
      ]
     },
     "execution_count": 3,
     "metadata": {},
     "output_type": "execute_result"
    }
   ],
   "source": [
    "# Prints number of data items and series\n",
    "print(taxi_data.shape)\n",
    "\n",
    "# Displays first 5 rows of data frame\n",
    "taxi_data.head()"
   ]
  },
  {
   "cell_type": "markdown",
   "metadata": {},
   "source": [
    "Each row corresponds to a different yellow taxi trip. We see that there are over seven million trips to analyze, as well as eighteen series providing different types of information on each trip. "
   ]
  },
  {
   "cell_type": "markdown",
   "metadata": {},
   "source": [
    "# 2. Data exploration <a id='data_exploration'></a>\n",
    "[Back to top](#table_of_contents)\n",
    "\n",
    "In this section, we explore the data set in more detail. We look to condense our data set as much as possible (in line with the overall goal of the project), and to identify any erroneous or missing data in the set."
   ]
  },
  {
   "cell_type": "markdown",
   "metadata": {},
   "source": [
    "We first want to look at the series (columns) in our data set, and remove columns which are redundant in our analysis."
   ]
  },
  {
   "cell_type": "code",
   "execution_count": 4,
   "metadata": {
    "scrolled": true
   },
   "outputs": [
    {
     "data": {
      "text/plain": [
       "Index(['VendorID', 'tpep_pickup_datetime', 'tpep_dropoff_datetime',\n",
       "       'passenger_count', 'trip_distance', 'RatecodeID', 'store_and_fwd_flag',\n",
       "       'PULocationID', 'DOLocationID', 'payment_type', 'fare_amount', 'extra',\n",
       "       'mta_tax', 'tip_amount', 'tolls_amount', 'improvement_surcharge',\n",
       "       'total_amount', 'congestion_surcharge'],\n",
       "      dtype='object')"
      ]
     },
     "execution_count": 4,
     "metadata": {},
     "output_type": "execute_result"
    }
   ],
   "source": [
    "# Displays all series in data frame\n",
    "taxi_data.columns"
   ]
  },
  {
   "cell_type": "markdown",
   "metadata": {},
   "source": [
    "By looking at the data dictionary for this data set (available in the .zip folder linked above), we can make judgements on which series are useful and which series are not useful in our analysis. Recall that we are looking to predict the average spend of passengers in a yellow taxi in New York.\n",
    "\n",
    "Upon observation of the data dictionary, we see that the series \"VendorID\" and \"store_and_fwd_flag\" do not affect the expenditure of a passenger, and so these can be removed from the data frame. We also note that, for a given trip, the sum of the values corresponding to the series: \"fare_amount\", \"extra\", \"mta_tax\", \"tip_amount\", \"tolls_amount\", \"improvement_surcharge\", and \"congestion_surcharge\" gives the \"total_amount\" value, which is what we are aiming to predict. Thus, we can discount all of the series pertaining to the individual parts of this sum, and simply keep the \"total amount series\".\n",
    "\n",
    "Given these observations, we can define a reduced data frame with fewer series."
   ]
  },
  {
   "cell_type": "code",
   "execution_count": 5,
   "metadata": {},
   "outputs": [],
   "source": [
    "# Defines a new data frame keeping only the specified columns from the original data frame\n",
    "taxi_data = taxi_data[[\"tpep_pickup_datetime\", \"tpep_dropoff_datetime\", \"passenger_count\",\n",
    "                       \"trip_distance\", \"RatecodeID\", \"PULocationID\", \"DOLocationID\",\n",
    "                       \"payment_type\", \"total_amount\"]]"
   ]
  },
  {
   "cell_type": "markdown",
   "metadata": {},
   "source": [
    "Below is a visual of the reduced data frame."
   ]
  },
  {
   "cell_type": "code",
   "execution_count": 6,
   "metadata": {},
   "outputs": [
    {
     "data": {
      "text/html": [
       "<div>\n",
       "<style scoped>\n",
       "    .dataframe tbody tr th:only-of-type {\n",
       "        vertical-align: middle;\n",
       "    }\n",
       "\n",
       "    .dataframe tbody tr th {\n",
       "        vertical-align: top;\n",
       "    }\n",
       "\n",
       "    .dataframe thead th {\n",
       "        text-align: right;\n",
       "    }\n",
       "</style>\n",
       "<table border=\"1\" class=\"dataframe\">\n",
       "  <thead>\n",
       "    <tr style=\"text-align: right;\">\n",
       "      <th></th>\n",
       "      <th>tpep_pickup_datetime</th>\n",
       "      <th>tpep_dropoff_datetime</th>\n",
       "      <th>passenger_count</th>\n",
       "      <th>trip_distance</th>\n",
       "      <th>RatecodeID</th>\n",
       "      <th>PULocationID</th>\n",
       "      <th>DOLocationID</th>\n",
       "      <th>payment_type</th>\n",
       "      <th>total_amount</th>\n",
       "    </tr>\n",
       "  </thead>\n",
       "  <tbody>\n",
       "    <tr>\n",
       "      <th>0</th>\n",
       "      <td>2019-01-01 00:46:40</td>\n",
       "      <td>2019-01-01 00:53:20</td>\n",
       "      <td>1</td>\n",
       "      <td>1.5</td>\n",
       "      <td>1</td>\n",
       "      <td>151</td>\n",
       "      <td>239</td>\n",
       "      <td>1</td>\n",
       "      <td>9.95</td>\n",
       "    </tr>\n",
       "    <tr>\n",
       "      <th>1</th>\n",
       "      <td>2019-01-01 00:59:47</td>\n",
       "      <td>2019-01-01 01:18:59</td>\n",
       "      <td>1</td>\n",
       "      <td>2.6</td>\n",
       "      <td>1</td>\n",
       "      <td>239</td>\n",
       "      <td>246</td>\n",
       "      <td>1</td>\n",
       "      <td>16.30</td>\n",
       "    </tr>\n",
       "    <tr>\n",
       "      <th>2</th>\n",
       "      <td>2018-12-21 13:48:30</td>\n",
       "      <td>2018-12-21 13:52:40</td>\n",
       "      <td>3</td>\n",
       "      <td>0.0</td>\n",
       "      <td>1</td>\n",
       "      <td>236</td>\n",
       "      <td>236</td>\n",
       "      <td>1</td>\n",
       "      <td>5.80</td>\n",
       "    </tr>\n",
       "    <tr>\n",
       "      <th>3</th>\n",
       "      <td>2018-11-28 15:52:25</td>\n",
       "      <td>2018-11-28 15:55:45</td>\n",
       "      <td>5</td>\n",
       "      <td>0.0</td>\n",
       "      <td>1</td>\n",
       "      <td>193</td>\n",
       "      <td>193</td>\n",
       "      <td>2</td>\n",
       "      <td>7.55</td>\n",
       "    </tr>\n",
       "    <tr>\n",
       "      <th>4</th>\n",
       "      <td>2018-11-28 15:56:57</td>\n",
       "      <td>2018-11-28 15:58:33</td>\n",
       "      <td>5</td>\n",
       "      <td>0.0</td>\n",
       "      <td>2</td>\n",
       "      <td>193</td>\n",
       "      <td>193</td>\n",
       "      <td>2</td>\n",
       "      <td>55.55</td>\n",
       "    </tr>\n",
       "  </tbody>\n",
       "</table>\n",
       "</div>"
      ],
      "text/plain": [
       "  tpep_pickup_datetime tpep_dropoff_datetime  passenger_count  trip_distance  \\\n",
       "0  2019-01-01 00:46:40   2019-01-01 00:53:20                1            1.5   \n",
       "1  2019-01-01 00:59:47   2019-01-01 01:18:59                1            2.6   \n",
       "2  2018-12-21 13:48:30   2018-12-21 13:52:40                3            0.0   \n",
       "3  2018-11-28 15:52:25   2018-11-28 15:55:45                5            0.0   \n",
       "4  2018-11-28 15:56:57   2018-11-28 15:58:33                5            0.0   \n",
       "\n",
       "   RatecodeID  PULocationID  DOLocationID  payment_type  total_amount  \n",
       "0           1           151           239             1          9.95  \n",
       "1           1           239           246             1         16.30  \n",
       "2           1           236           236             1          5.80  \n",
       "3           1           193           193             2          7.55  \n",
       "4           2           193           193             2         55.55  "
      ]
     },
     "execution_count": 6,
     "metadata": {},
     "output_type": "execute_result"
    }
   ],
   "source": [
    "taxi_data.head()"
   ]
  },
  {
   "cell_type": "markdown",
   "metadata": {},
   "source": [
    "To get a better sense of the remaining data, we can construct histograms showing the series values for each trip."
   ]
  },
  {
   "cell_type": "code",
   "execution_count": 7,
   "metadata": {
    "scrolled": false
   },
   "outputs": [
    {
     "data": {
      "text/plain": [
       "array([[<matplotlib.axes._subplots.AxesSubplot object at 0x000001DB0ECE0608>,\n",
       "        <matplotlib.axes._subplots.AxesSubplot object at 0x000001DB326718C8>,\n",
       "        <matplotlib.axes._subplots.AxesSubplot object at 0x000001DB32696848>],\n",
       "       [<matplotlib.axes._subplots.AxesSubplot object at 0x000001DB326B8948>,\n",
       "        <matplotlib.axes._subplots.AxesSubplot object at 0x000001DB326EFA88>,\n",
       "        <matplotlib.axes._subplots.AxesSubplot object at 0x000001DB32726BC8>],\n",
       "       [<matplotlib.axes._subplots.AxesSubplot object at 0x000001DB3275CCC8>,\n",
       "        <matplotlib.axes._subplots.AxesSubplot object at 0x000001DB32795DC8>,\n",
       "        <matplotlib.axes._subplots.AxesSubplot object at 0x000001DB327A0988>]],\n",
       "      dtype=object)"
      ]
     },
     "execution_count": 7,
     "metadata": {},
     "output_type": "execute_result"
    },
    {
     "data": {
      "image/png": "[encoded data removed]",
      "text/plain": [
       "<Figure size 1440x720 with 9 Axes>"
      ]
     },
     "metadata": {
      "needs_background": "light"
     },
     "output_type": "display_data"
    }
   ],
   "source": [
    "# Histograms for each series in taxi_data\n",
    "taxi_data.hist(figsize=(20,10),bins=50)"
   ]
  },
  {
   "cell_type": "markdown",
   "metadata": {},
   "source": [
    "From the histograms, we identify the following potential errors or anomolies in the data:\n",
    "\n",
    "* We observe that there are records of trips with zero passengers in the data frame, which could be a data entry error.\n",
    "\n",
    "* From the data dictionary, we know that the RatecodeID can only take a categorical integer value from $1$ to $6$ (inclusive), and so the presence of values $>6$ and $<100$ suggests a data entry error.\n",
    "\n",
    "* There is evidence of a passenger paying over $£600000$ for a taxi ride, which is highly unlikely."
   ]
  },
  {
   "cell_type": "markdown",
   "metadata": {},
   "source": [
    "Let's look at the \"RatecodeID\" anomoly more closely. We can see below that there are $252$ instances in which a RatecodeID of $99$ has been recorded. This could be the result of human error during data entry, or a system error by the taxi company. In any case, since the trips which have been assigned a \"RatecodeID\" of $99$ account for $0.003\\%$ of the total number of trips, they can be safely removed from the data set."
   ]
  },
  {
   "cell_type": "code",
   "execution_count": 8,
   "metadata": {},
   "outputs": [
    {
     "data": {
      "text/plain": [
       "1     7430139\n",
       "2      166090\n",
       "5       54569\n",
       "3       11801\n",
       "4        4895\n",
       "99        252\n",
       "6          46\n",
       "Name: RatecodeID, dtype: int64"
      ]
     },
     "execution_count": 8,
     "metadata": {},
     "output_type": "execute_result"
    }
   ],
   "source": [
    "# Number of trips assigned with each RatecodeID\n",
    "taxi_data[\"RatecodeID\"].value_counts()"
   ]
  },
  {
   "cell_type": "markdown",
   "metadata": {},
   "source": [
    "Let's analyze the \"total_amount\" anomoly more closely by comparing these values against the row (trip) index in a scatter plot:"
   ]
  },
  {
   "cell_type": "code",
   "execution_count": 9,
   "metadata": {
    "scrolled": true
   },
   "outputs": [
    {
     "data": {
      "text/plain": [
       "<matplotlib.axes._subplots.AxesSubplot at 0x1db3328b408>"
      ]
     },
     "execution_count": 9,
     "metadata": {},
     "output_type": "execute_result"
    },
    {
     "data": {
      "image/png": "[encoded data removed]",
      "text/plain": [
       "<Figure size 720x360 with 1 Axes>"
      ]
     },
     "metadata": {
      "needs_background": "light"
     },
     "output_type": "display_data"
    }
   ],
   "source": [
    "# Scatter plot of total amount for each trip\n",
    "taxi_data.reset_index().plot(kind = \"scatter\", x = \"index\", y = \"total_amount\", figsize = (10,5))"
   ]
  },
  {
   "cell_type": "markdown",
   "metadata": {},
   "source": [
    "We can see here that there are clearly some outlying total amounts, but these seem small in comparison to the total number of trips in the data set."
   ]
  },
  {
   "cell_type": "markdown",
   "metadata": {},
   "source": [
    "By changing the range of the plot, we can see that there are also negative values for the total amount, which is clearly not valid."
   ]
  },
  {
   "cell_type": "code",
   "execution_count": 10,
   "metadata": {
    "scrolled": true
   },
   "outputs": [
    {
     "data": {
      "text/plain": [
       "<matplotlib.axes._subplots.AxesSubplot at 0x1db332e5188>"
      ]
     },
     "execution_count": 10,
     "metadata": {},
     "output_type": "execute_result"
    },
    {
     "data": {
      "image/png": "[encoded data removed]",
      "text/plain": [
       "<Figure size 720x360 with 1 Axes>"
      ]
     },
     "metadata": {
      "needs_background": "light"
     },
     "output_type": "display_data"
    }
   ],
   "source": [
    "# Scatter plot of total amounts less than $1000\n",
    "taxi_data[taxi_data[\"total_amount\"] < 1000].reset_index().plot(kind = \"scatter\",\n",
    "                                                               x = \"index\", y = \"total_amount\", figsize = (10,5))"
   ]
  },
  {
   "cell_type": "markdown",
   "metadata": {},
   "source": [
    "Thus, we have two things to deal with here: the high outliers and the negative values. Let's look at the negative values first."
   ]
  },
  {
   "cell_type": "markdown",
   "metadata": {},
   "source": [
    "We want to see the number of negative values in relation to the size of the overall data set:"
   ]
  },
  {
   "cell_type": "code",
   "execution_count": 11,
   "metadata": {},
   "outputs": [
    {
     "name": "stdout",
     "output_type": "stream",
     "text": [
      "7131\n"
     ]
    },
    {
     "data": {
      "text/plain": [
       "<matplotlib.axes._subplots.AxesSubplot at 0x1db3335c208>"
      ]
     },
     "execution_count": 11,
     "metadata": {},
     "output_type": "execute_result"
    },
    {
     "data": {
      "image/png": "[encoded data removed]",
      "text/plain": [
       "<Figure size 720x360 with 1 Axes>"
      ]
     },
     "metadata": {
      "needs_background": "light"
     },
     "output_type": "display_data"
    }
   ],
   "source": [
    "# Prints number of negative total amounts in data set\n",
    "print(taxi_data[taxi_data[\"total_amount\"]<0].shape[0])\n",
    "\n",
    "# Scatter plot of negative total amounts\n",
    "taxi_data[taxi_data[\"total_amount\"]<0].reset_index().plot(kind = \"scatter\", x = \"index\", y = \"total_amount\", figsize = (10,5))"
   ]
  },
  {
   "cell_type": "markdown",
   "metadata": {},
   "source": [
    "We can see that there are just over $7000$ negative values, which is small relative to the overall size of the data set. This suggests we could simply remove these negative values without causing much damage. However, let's do some additional investigations."
   ]
  },
  {
   "cell_type": "code",
   "execution_count": 12,
   "metadata": {},
   "outputs": [
    {
     "data": {
      "text/html": [
       "<div>\n",
       "<style scoped>\n",
       "    .dataframe tbody tr th:only-of-type {\n",
       "        vertical-align: middle;\n",
       "    }\n",
       "\n",
       "    .dataframe tbody tr th {\n",
       "        vertical-align: top;\n",
       "    }\n",
       "\n",
       "    .dataframe thead th {\n",
       "        text-align: right;\n",
       "    }\n",
       "</style>\n",
       "<table border=\"1\" class=\"dataframe\">\n",
       "  <thead>\n",
       "    <tr style=\"text-align: right;\">\n",
       "      <th></th>\n",
       "      <th>tpep_pickup_datetime</th>\n",
       "      <th>tpep_dropoff_datetime</th>\n",
       "      <th>passenger_count</th>\n",
       "      <th>trip_distance</th>\n",
       "      <th>RatecodeID</th>\n",
       "      <th>PULocationID</th>\n",
       "      <th>DOLocationID</th>\n",
       "      <th>payment_type</th>\n",
       "      <th>total_amount</th>\n",
       "    </tr>\n",
       "  </thead>\n",
       "  <tbody>\n",
       "    <tr>\n",
       "      <th>663</th>\n",
       "      <td>2019-01-01 00:32:56</td>\n",
       "      <td>2019-01-01 00:33:35</td>\n",
       "      <td>2</td>\n",
       "      <td>0.10</td>\n",
       "      <td>1</td>\n",
       "      <td>148</td>\n",
       "      <td>148</td>\n",
       "      <td>3</td>\n",
       "      <td>-3.8</td>\n",
       "    </tr>\n",
       "    <tr>\n",
       "      <th>2402</th>\n",
       "      <td>2019-01-01 00:14:18</td>\n",
       "      <td>2019-01-01 00:40:55</td>\n",
       "      <td>1</td>\n",
       "      <td>4.13</td>\n",
       "      <td>1</td>\n",
       "      <td>170</td>\n",
       "      <td>238</td>\n",
       "      <td>4</td>\n",
       "      <td>-20.3</td>\n",
       "    </tr>\n",
       "    <tr>\n",
       "      <th>2541</th>\n",
       "      <td>2019-01-01 00:31:27</td>\n",
       "      <td>2019-01-01 00:42:39</td>\n",
       "      <td>1</td>\n",
       "      <td>1.35</td>\n",
       "      <td>1</td>\n",
       "      <td>162</td>\n",
       "      <td>234</td>\n",
       "      <td>4</td>\n",
       "      <td>-9.8</td>\n",
       "    </tr>\n",
       "    <tr>\n",
       "      <th>2544</th>\n",
       "      <td>2019-01-01 00:45:57</td>\n",
       "      <td>2019-01-01 00:46:07</td>\n",
       "      <td>1</td>\n",
       "      <td>0.00</td>\n",
       "      <td>1</td>\n",
       "      <td>234</td>\n",
       "      <td>234</td>\n",
       "      <td>4</td>\n",
       "      <td>-3.8</td>\n",
       "    </tr>\n",
       "    <tr>\n",
       "      <th>2547</th>\n",
       "      <td>2019-01-01 00:48:35</td>\n",
       "      <td>2019-01-01 00:49:59</td>\n",
       "      <td>1</td>\n",
       "      <td>0.16</td>\n",
       "      <td>1</td>\n",
       "      <td>234</td>\n",
       "      <td>234</td>\n",
       "      <td>4</td>\n",
       "      <td>-4.3</td>\n",
       "    </tr>\n",
       "  </tbody>\n",
       "</table>\n",
       "</div>"
      ],
      "text/plain": [
       "     tpep_pickup_datetime tpep_dropoff_datetime  passenger_count  \\\n",
       "663   2019-01-01 00:32:56   2019-01-01 00:33:35                2   \n",
       "2402  2019-01-01 00:14:18   2019-01-01 00:40:55                1   \n",
       "2541  2019-01-01 00:31:27   2019-01-01 00:42:39                1   \n",
       "2544  2019-01-01 00:45:57   2019-01-01 00:46:07                1   \n",
       "2547  2019-01-01 00:48:35   2019-01-01 00:49:59                1   \n",
       "\n",
       "      trip_distance  RatecodeID  PULocationID  DOLocationID  payment_type  \\\n",
       "663            0.10           1           148           148             3   \n",
       "2402           4.13           1           170           238             4   \n",
       "2541           1.35           1           162           234             4   \n",
       "2544           0.00           1           234           234             4   \n",
       "2547           0.16           1           234           234             4   \n",
       "\n",
       "      total_amount  \n",
       "663           -3.8  \n",
       "2402         -20.3  \n",
       "2541          -9.8  \n",
       "2544          -3.8  \n",
       "2547          -4.3  "
      ]
     },
     "execution_count": 12,
     "metadata": {},
     "output_type": "execute_result"
    }
   ],
   "source": [
    "taxi_data[taxi_data[\"total_amount\"]<0].head()"
   ]
  },
  {
   "cell_type": "markdown",
   "metadata": {},
   "source": [
    "One interesting feature of the above data frame for the negative values of \"total_amount\" is that the payment types seem to be 3 or 4. Let's see if this is the case for all negative values:"
   ]
  },
  {
   "cell_type": "code",
   "execution_count": 13,
   "metadata": {},
   "outputs": [
    {
     "data": {
      "text/plain": [
       "3    4088\n",
       "4    2666\n",
       "2     376\n",
       "1       1\n",
       "Name: payment_type, dtype: int64"
      ]
     },
     "execution_count": 13,
     "metadata": {},
     "output_type": "execute_result"
    }
   ],
   "source": [
    "# Distribution of payment types amongst negative total amounts\n",
    "taxi_data[taxi_data[\"total_amount\"]<0][\"payment_type\"].value_counts()"
   ]
  },
  {
   "cell_type": "markdown",
   "metadata": {},
   "source": [
    "We see that most of the negative values are associated with payment types 3 (no charge) and 4 (dispute). Let's analyze the trip distances corresponding to these negative values also:"
   ]
  },
  {
   "cell_type": "code",
   "execution_count": 14,
   "metadata": {},
   "outputs": [
    {
     "data": {
      "text/plain": [
       "<matplotlib.axes._subplots.AxesSubplot at 0x1db333abd48>"
      ]
     },
     "execution_count": 14,
     "metadata": {},
     "output_type": "execute_result"
    },
    {
     "data": {
      "image/png": "[encoded data removed]",
      "text/plain": [
       "<Figure size 720x360 with 1 Axes>"
      ]
     },
     "metadata": {
      "needs_background": "light"
     },
     "output_type": "display_data"
    }
   ],
   "source": [
    "# Histogram of trip distances corresponding to negative total amounts\n",
    "taxi_data[taxi_data[\"total_amount\"]<0][\"trip_distance\"].hist(bins=60, figsize=(10,5))"
   ]
  },
  {
   "cell_type": "markdown",
   "metadata": {},
   "source": [
    "There are a predominant number of trip distances of zero, so maybe the negative values are largely coming from confusion where a passenger gets into a taxi, but then decides they don't want the trip."
   ]
  },
  {
   "cell_type": "markdown",
   "metadata": {},
   "source": [
    "We have only looked at values of \"total_amount\" which are strictly less than zero. What about zero values? It would be strange for somebody to get a taxi and pay no fare, and such data may confuse our model. Let's analyze the occurance of such zero values."
   ]
  },
  {
   "cell_type": "code",
   "execution_count": 15,
   "metadata": {},
   "outputs": [
    {
     "data": {
      "text/html": [
       "<div>\n",
       "<style scoped>\n",
       "    .dataframe tbody tr th:only-of-type {\n",
       "        vertical-align: middle;\n",
       "    }\n",
       "\n",
       "    .dataframe tbody tr th {\n",
       "        vertical-align: top;\n",
       "    }\n",
       "\n",
       "    .dataframe thead th {\n",
       "        text-align: right;\n",
       "    }\n",
       "</style>\n",
       "<table border=\"1\" class=\"dataframe\">\n",
       "  <thead>\n",
       "    <tr style=\"text-align: right;\">\n",
       "      <th></th>\n",
       "      <th>tpep_pickup_datetime</th>\n",
       "      <th>tpep_dropoff_datetime</th>\n",
       "      <th>passenger_count</th>\n",
       "      <th>trip_distance</th>\n",
       "      <th>RatecodeID</th>\n",
       "      <th>PULocationID</th>\n",
       "      <th>DOLocationID</th>\n",
       "      <th>payment_type</th>\n",
       "      <th>total_amount</th>\n",
       "    </tr>\n",
       "  </thead>\n",
       "  <tbody>\n",
       "    <tr>\n",
       "      <th>3552</th>\n",
       "      <td>2019-01-01 00:18:46</td>\n",
       "      <td>2019-01-01 00:18:46</td>\n",
       "      <td>1</td>\n",
       "      <td>0.0</td>\n",
       "      <td>5</td>\n",
       "      <td>186</td>\n",
       "      <td>264</td>\n",
       "      <td>2</td>\n",
       "      <td>0.0</td>\n",
       "    </tr>\n",
       "    <tr>\n",
       "      <th>9138</th>\n",
       "      <td>2019-01-01 00:41:47</td>\n",
       "      <td>2019-01-01 00:41:47</td>\n",
       "      <td>1</td>\n",
       "      <td>0.0</td>\n",
       "      <td>5</td>\n",
       "      <td>246</td>\n",
       "      <td>264</td>\n",
       "      <td>2</td>\n",
       "      <td>0.0</td>\n",
       "    </tr>\n",
       "    <tr>\n",
       "      <th>13256</th>\n",
       "      <td>2019-01-01 00:19:38</td>\n",
       "      <td>2019-01-01 00:20:35</td>\n",
       "      <td>1</td>\n",
       "      <td>0.0</td>\n",
       "      <td>1</td>\n",
       "      <td>193</td>\n",
       "      <td>193</td>\n",
       "      <td>1</td>\n",
       "      <td>0.0</td>\n",
       "    </tr>\n",
       "    <tr>\n",
       "      <th>13257</th>\n",
       "      <td>2019-01-01 00:43:34</td>\n",
       "      <td>2019-01-01 00:43:34</td>\n",
       "      <td>1</td>\n",
       "      <td>0.0</td>\n",
       "      <td>1</td>\n",
       "      <td>7</td>\n",
       "      <td>7</td>\n",
       "      <td>2</td>\n",
       "      <td>0.0</td>\n",
       "    </tr>\n",
       "    <tr>\n",
       "      <th>13258</th>\n",
       "      <td>2019-01-01 00:02:52</td>\n",
       "      <td>2019-01-01 00:02:52</td>\n",
       "      <td>1</td>\n",
       "      <td>0.0</td>\n",
       "      <td>1</td>\n",
       "      <td>264</td>\n",
       "      <td>7</td>\n",
       "      <td>2</td>\n",
       "      <td>0.0</td>\n",
       "    </tr>\n",
       "  </tbody>\n",
       "</table>\n",
       "</div>"
      ],
      "text/plain": [
       "      tpep_pickup_datetime tpep_dropoff_datetime  passenger_count  \\\n",
       "3552   2019-01-01 00:18:46   2019-01-01 00:18:46                1   \n",
       "9138   2019-01-01 00:41:47   2019-01-01 00:41:47                1   \n",
       "13256  2019-01-01 00:19:38   2019-01-01 00:20:35                1   \n",
       "13257  2019-01-01 00:43:34   2019-01-01 00:43:34                1   \n",
       "13258  2019-01-01 00:02:52   2019-01-01 00:02:52                1   \n",
       "\n",
       "       trip_distance  RatecodeID  PULocationID  DOLocationID  payment_type  \\\n",
       "3552             0.0           5           186           264             2   \n",
       "9138             0.0           5           246           264             2   \n",
       "13256            0.0           1           193           193             1   \n",
       "13257            0.0           1             7             7             2   \n",
       "13258            0.0           1           264             7             2   \n",
       "\n",
       "       total_amount  \n",
       "3552            0.0  \n",
       "9138            0.0  \n",
       "13256           0.0  \n",
       "13257           0.0  \n",
       "13258           0.0  "
      ]
     },
     "execution_count": 15,
     "metadata": {},
     "output_type": "execute_result"
    }
   ],
   "source": [
    "taxi_data[taxi_data[\"total_amount\"] == 0].head()"
   ]
  },
  {
   "cell_type": "code",
   "execution_count": 16,
   "metadata": {
    "scrolled": true
   },
   "outputs": [
    {
     "data": {
      "text/plain": [
       "1    815\n",
       "2    569\n",
       "3     29\n",
       "4      1\n",
       "Name: payment_type, dtype: int64"
      ]
     },
     "execution_count": 16,
     "metadata": {},
     "output_type": "execute_result"
    }
   ],
   "source": [
    "# Distribution of payment types amongst zero total amounts\n",
    "taxi_data[taxi_data[\"total_amount\"]==0][\"payment_type\"].value_counts()"
   ]
  },
  {
   "cell_type": "code",
   "execution_count": 17,
   "metadata": {
    "scrolled": true
   },
   "outputs": [
    {
     "data": {
      "text/plain": [
       "0.00    1270\n",
       "1.00       4\n",
       "0.01       4\n",
       "0.02       4\n",
       "0.03       3\n",
       "        ... \n",
       "0.59       1\n",
       "0.18       1\n",
       "5.70       1\n",
       "0.87       1\n",
       "1.04       1\n",
       "Name: trip_distance, Length: 110, dtype: int64"
      ]
     },
     "execution_count": 17,
     "metadata": {},
     "output_type": "execute_result"
    }
   ],
   "source": [
    "# Distribution of trip distances amongst zero total amounts\n",
    "taxi_data[taxi_data[\"total_amount\"]==0][\"trip_distance\"].value_counts()"
   ]
  },
  {
   "cell_type": "markdown",
   "metadata": {},
   "source": [
    "We can see that the majority of the zero values are associated with zero distance trips. The strictly positive distance trips could be passengers that have dashed and not paid their fare."
   ]
  },
  {
   "cell_type": "markdown",
   "metadata": {},
   "source": [
    "Let's now look at the suspiciously large total amount values:"
   ]
  },
  {
   "cell_type": "code",
   "execution_count": 18,
   "metadata": {
    "scrolled": true
   },
   "outputs": [
    {
     "data": {
      "text/plain": [
       "<matplotlib.axes._subplots.AxesSubplot at 0x1db34318708>"
      ]
     },
     "execution_count": 18,
     "metadata": {},
     "output_type": "execute_result"
    },
    {
     "data": {
      "image/png": "[encoded data removed]",
      "text/plain": [
       "<Figure size 720x360 with 1 Axes>"
      ]
     },
     "metadata": {
      "needs_background": "light"
     },
     "output_type": "display_data"
    }
   ],
   "source": [
    "taxi_data.reset_index().plot(kind = \"scatter\", x = \"index\", y = \"total_amount\", figsize = (10,5))"
   ]
  },
  {
   "cell_type": "markdown",
   "metadata": {},
   "source": [
    "We can see below that there are 56 total amount values above 500, which is far lower than the overall size of the data set. Therefore, we can be fairly certain that these high values are outliers which can be deleted from the data set."
   ]
  },
  {
   "cell_type": "code",
   "execution_count": 19,
   "metadata": {},
   "outputs": [
    {
     "data": {
      "text/plain": [
       "56"
      ]
     },
     "execution_count": 19,
     "metadata": {},
     "output_type": "execute_result"
    }
   ],
   "source": [
    "# Number of total amounts above $500\n",
    "taxi_data[taxi_data[\"total_amount\"]>500].shape[0]"
   ]
  },
  {
   "cell_type": "markdown",
   "metadata": {},
   "source": [
    "We need to decide on a threshold total amount above which to delete data points."
   ]
  },
  {
   "cell_type": "code",
   "execution_count": 20,
   "metadata": {},
   "outputs": [
    {
     "data": {
      "text/plain": [
       "307"
      ]
     },
     "execution_count": 20,
     "metadata": {},
     "output_type": "execute_result"
    }
   ],
   "source": [
    "# Number of total amounts above $300\n",
    "taxi_data[taxi_data[\"total_amount\"]>300].shape[0]"
   ]
  },
  {
   "cell_type": "code",
   "execution_count": 21,
   "metadata": {
    "scrolled": true
   },
   "outputs": [
    {
     "data": {
      "text/plain": [
       "1166"
      ]
     },
     "execution_count": 21,
     "metadata": {},
     "output_type": "execute_result"
    }
   ],
   "source": [
    "# Number of total amounts above $200\n",
    "taxi_data[taxi_data[\"total_amount\"]>200].shape[0]"
   ]
  },
  {
   "cell_type": "code",
   "execution_count": 22,
   "metadata": {},
   "outputs": [
    {
     "data": {
      "text/plain": [
       "10832"
      ]
     },
     "execution_count": 22,
     "metadata": {},
     "output_type": "execute_result"
    }
   ],
   "source": [
    "# Number of total amounts above $100\n",
    "taxi_data[taxi_data[\"total_amount\"]>100].shape[0]"
   ]
  },
  {
   "cell_type": "markdown",
   "metadata": {},
   "source": [
    "Given the size of the overall dat set, it would seem from the above that 200 is a reasonable threshold. Let's double check this by calculating the mean total amount:"
   ]
  },
  {
   "cell_type": "code",
   "execution_count": 23,
   "metadata": {},
   "outputs": [
    {
     "data": {
      "text/plain": [
       "15.68222215901336"
      ]
     },
     "execution_count": 23,
     "metadata": {},
     "output_type": "execute_result"
    }
   ],
   "source": [
    "# Mean of total amounts\n",
    "taxi_data[\"total_amount\"].mean()"
   ]
  },
  {
   "cell_type": "markdown",
   "metadata": {},
   "source": [
    "# 3. Data cleaning <a id='data_cleaning'></a>\n",
    "[Back to top](#table_of_contents)\n",
    "\n",
    "In this section, we address the anomolies in the data set which were identified in section 2. Specifically, we delete anomolous values where appropriate, and we also investigate whether there are any missing values in the data set."
   ]
  },
  {
   "cell_type": "markdown",
   "metadata": {},
   "source": [
    "In the data exploration phase, we decided to delete all total amounts less than zero and greater than 200. This is what we do here:"
   ]
  },
  {
   "cell_type": "code",
   "execution_count": 24,
   "metadata": {},
   "outputs": [],
   "source": [
    "# Deletes trips with total amounts less than $0 and greater than $200\n",
    "taxi_data_filtered = taxi_data[(taxi_data[\"total_amount\"]>=0) & (taxi_data[\"total_amount\"]<200)]"
   ]
  },
  {
   "cell_type": "code",
   "execution_count": 25,
   "metadata": {},
   "outputs": [
    {
     "name": "stdout",
     "output_type": "stream",
     "text": [
      "7667792\n"
     ]
    },
    {
     "data": {
      "text/plain": [
       "7659490"
      ]
     },
     "execution_count": 25,
     "metadata": {},
     "output_type": "execute_result"
    }
   ],
   "source": [
    "# Number of trips in data set before deletion\n",
    "print(taxi_data.shape[0])\n",
    "\n",
    "# Number of trips in data set after deletion\n",
    "taxi_data_filtered.shape[0]"
   ]
  },
  {
   "cell_type": "markdown",
   "metadata": {},
   "source": [
    "We then check for missing values in the resulting data set:"
   ]
  },
  {
   "cell_type": "code",
   "execution_count": 26,
   "metadata": {},
   "outputs": [
    {
     "data": {
      "text/plain": [
       "tpep_pickup_datetime     0\n",
       "tpep_dropoff_datetime    0\n",
       "passenger_count          0\n",
       "trip_distance            0\n",
       "RatecodeID               0\n",
       "PULocationID             0\n",
       "DOLocationID             0\n",
       "payment_type             0\n",
       "total_amount             0\n",
       "dtype: int64"
      ]
     },
     "execution_count": 26,
     "metadata": {},
     "output_type": "execute_result"
    }
   ],
   "source": [
    "# Sum of missing values for each series \n",
    "taxi_data_filtered.isna().sum()"
   ]
  },
  {
   "cell_type": "markdown",
   "metadata": {},
   "source": [
    "We see that there are no missing values. Therefore, at this stage, we do not need to deploy any filling or interpolation techniques on our data set."
   ]
  },
  {
   "cell_type": "markdown",
   "metadata": {},
   "source": [
    "# 4. Data preparation <a id='data_preparation'></a>\n",
    "[Back to top](#table_of_contents)\n",
    "\n",
    "In this section, we transform the data set into a suitable format for feeding into a benchmark model. We modify the data types of each series, identify any anomolous data which was missed in the previous section, and aggregrate the data based on a chosen grouping of the entire set."
   ]
  },
  {
   "cell_type": "markdown",
   "metadata": {},
   "source": [
    "For convenience, we create a check point here for our data frame."
   ]
  },
  {
   "cell_type": "code",
   "execution_count": 27,
   "metadata": {},
   "outputs": [],
   "source": [
    "taxi_data_prepared = taxi_data_filtered.copy()"
   ]
  },
  {
   "cell_type": "markdown",
   "metadata": {},
   "source": [
    "We first want to assess the current data types of each series in the data set, and make appropriate adjustments so that the data can be correctly feeded into the benchmark model."
   ]
  },
  {
   "cell_type": "code",
   "execution_count": 28,
   "metadata": {},
   "outputs": [
    {
     "data": {
      "text/plain": [
       "tpep_pickup_datetime      object\n",
       "tpep_dropoff_datetime     object\n",
       "passenger_count            int64\n",
       "trip_distance            float64\n",
       "RatecodeID                 int64\n",
       "PULocationID               int64\n",
       "DOLocationID               int64\n",
       "payment_type               int64\n",
       "total_amount             float64\n",
       "dtype: object"
      ]
     },
     "execution_count": 28,
     "metadata": {},
     "output_type": "execute_result"
    }
   ],
   "source": [
    "# Types of data in each series\n",
    "taxi_data_prepared.dtypes"
   ]
  },
  {
   "cell_type": "markdown",
   "metadata": {},
   "source": [
    "Currently, the pickup and dropoff date and time data values are strings. We need to covert these values to pandas datetime objects."
   ]
  },
  {
   "cell_type": "code",
   "execution_count": 29,
   "metadata": {},
   "outputs": [],
   "source": [
    "# Converts pickup date and time values to pandas datetime objects\n",
    "taxi_data_prepared.loc[:, \"tpep_pickup_datetime\"] = pd.to_datetime(taxi_data_prepared.loc[:, \"tpep_pickup_datetime\"])\n",
    "\n",
    "# Converts dropoff date and time values to pandas datetime objects\n",
    "taxi_data_prepared.loc[:, \"tpep_dropoff_datetime\"] = pd.to_datetime(taxi_data_prepared.loc[:, \"tpep_dropoff_datetime\"])"
   ]
  },
  {
   "cell_type": "markdown",
   "metadata": {},
   "source": [
    "We see also that \"RatecodeID\", \"PULocationID\", \"DOLocationID\" and \"payment_type\" values are currently integers. From the data dictionary, we know that these are all categorical variables. Therefore, to prevent interpretation of these as numerical values, we change their data types to string."
   ]
  },
  {
   "cell_type": "code",
   "execution_count": 30,
   "metadata": {},
   "outputs": [],
   "source": [
    "# Changes \"RatecodeID\" values from integer to string\n",
    "taxi_data_prepared.loc[:, \"RatecodeID\"] = taxi_data_prepared[\"RatecodeID\"].astype(str)\n",
    "\n",
    "# Changes \"PULocationID\" values from integer to string\n",
    "taxi_data_prepared.loc[:, \"PULocationID\"] = taxi_data_prepared[\"PULocationID\"].astype(str)\n",
    "\n",
    "# Changes \"DOLocationID\" values from integer to string\n",
    "taxi_data_prepared.loc[:, \"DOLocationID\"] = taxi_data_prepared[\"DOLocationID\"].astype(str)\n",
    "\n",
    "# Changes \"payment_type\" values from integer to string\n",
    "taxi_data_prepared.loc[:, \"payment_type\"] = taxi_data_prepared[\"payment_type\"].astype(str)"
   ]
  },
  {
   "cell_type": "markdown",
   "metadata": {},
   "source": [
    "We see now that the data values in each series are of the correct type."
   ]
  },
  {
   "cell_type": "code",
   "execution_count": 31,
   "metadata": {},
   "outputs": [
    {
     "data": {
      "text/plain": [
       "tpep_pickup_datetime     datetime64[ns]\n",
       "tpep_dropoff_datetime    datetime64[ns]\n",
       "passenger_count                   int64\n",
       "trip_distance                   float64\n",
       "RatecodeID                       object\n",
       "PULocationID                     object\n",
       "DOLocationID                     object\n",
       "payment_type                     object\n",
       "total_amount                    float64\n",
       "dtype: object"
      ]
     },
     "execution_count": 31,
     "metadata": {},
     "output_type": "execute_result"
    }
   ],
   "source": [
    "taxi_data_prepared.dtypes"
   ]
  },
  {
   "cell_type": "markdown",
   "metadata": {},
   "source": [
    "The pickup date and time will have a large impact on the total amount. We want to granulate this series by creating series pertaining to the pickup date, year, month, day and hour."
   ]
  },
  {
   "cell_type": "code",
   "execution_count": 32,
   "metadata": {},
   "outputs": [],
   "source": [
    "# Creates new series for the transaction date\n",
    "taxi_data_prepared[\"transaction_date\"] = pd.to_datetime(taxi_data_prepared[\"tpep_pickup_datetime\"].dt.date)\n",
    "\n",
    "# Creates new series for the transaction year\n",
    "taxi_data_prepared[\"transaction_year\"] = taxi_data_prepared[\"tpep_pickup_datetime\"].dt.year\n",
    "\n",
    "# Creates new series for the transaction month\n",
    "taxi_data_prepared[\"transaction_month\"] = taxi_data_prepared[\"tpep_pickup_datetime\"].dt.month\n",
    "\n",
    "# Creates new series for the transaction day\n",
    "taxi_data_prepared[\"transaction_day\"] = taxi_data_prepared[\"tpep_pickup_datetime\"].dt.day\n",
    "\n",
    "# Creates new series for the transaction hour\n",
    "taxi_data_prepared[\"transaction_hour\"] = taxi_data_prepared[\"tpep_pickup_datetime\"].dt.hour"
   ]
  },
  {
   "cell_type": "markdown",
   "metadata": {},
   "source": [
    "On inspecting this granulated data set, we see there are some trips erroneously present which occurred in 2018."
   ]
  },
  {
   "cell_type": "code",
   "execution_count": 33,
   "metadata": {},
   "outputs": [
    {
     "data": {
      "text/html": [
       "<div>\n",
       "<style scoped>\n",
       "    .dataframe tbody tr th:only-of-type {\n",
       "        vertical-align: middle;\n",
       "    }\n",
       "\n",
       "    .dataframe tbody tr th {\n",
       "        vertical-align: top;\n",
       "    }\n",
       "\n",
       "    .dataframe thead th {\n",
       "        text-align: right;\n",
       "    }\n",
       "</style>\n",
       "<table border=\"1\" class=\"dataframe\">\n",
       "  <thead>\n",
       "    <tr style=\"text-align: right;\">\n",
       "      <th></th>\n",
       "      <th>tpep_pickup_datetime</th>\n",
       "      <th>tpep_dropoff_datetime</th>\n",
       "      <th>passenger_count</th>\n",
       "      <th>trip_distance</th>\n",
       "      <th>RatecodeID</th>\n",
       "      <th>PULocationID</th>\n",
       "      <th>DOLocationID</th>\n",
       "      <th>payment_type</th>\n",
       "      <th>total_amount</th>\n",
       "      <th>transaction_date</th>\n",
       "      <th>transaction_year</th>\n",
       "      <th>transaction_month</th>\n",
       "      <th>transaction_day</th>\n",
       "      <th>transaction_hour</th>\n",
       "    </tr>\n",
       "  </thead>\n",
       "  <tbody>\n",
       "    <tr>\n",
       "      <th>0</th>\n",
       "      <td>2019-01-01 00:46:40</td>\n",
       "      <td>2019-01-01 00:53:20</td>\n",
       "      <td>1</td>\n",
       "      <td>1.5</td>\n",
       "      <td>1</td>\n",
       "      <td>151</td>\n",
       "      <td>239</td>\n",
       "      <td>1</td>\n",
       "      <td>9.95</td>\n",
       "      <td>2019-01-01</td>\n",
       "      <td>2019</td>\n",
       "      <td>1</td>\n",
       "      <td>1</td>\n",
       "      <td>0</td>\n",
       "    </tr>\n",
       "    <tr>\n",
       "      <th>1</th>\n",
       "      <td>2019-01-01 00:59:47</td>\n",
       "      <td>2019-01-01 01:18:59</td>\n",
       "      <td>1</td>\n",
       "      <td>2.6</td>\n",
       "      <td>1</td>\n",
       "      <td>239</td>\n",
       "      <td>246</td>\n",
       "      <td>1</td>\n",
       "      <td>16.30</td>\n",
       "      <td>2019-01-01</td>\n",
       "      <td>2019</td>\n",
       "      <td>1</td>\n",
       "      <td>1</td>\n",
       "      <td>0</td>\n",
       "    </tr>\n",
       "    <tr>\n",
       "      <th>2</th>\n",
       "      <td>2018-12-21 13:48:30</td>\n",
       "      <td>2018-12-21 13:52:40</td>\n",
       "      <td>3</td>\n",
       "      <td>0.0</td>\n",
       "      <td>1</td>\n",
       "      <td>236</td>\n",
       "      <td>236</td>\n",
       "      <td>1</td>\n",
       "      <td>5.80</td>\n",
       "      <td>2018-12-21</td>\n",
       "      <td>2018</td>\n",
       "      <td>12</td>\n",
       "      <td>21</td>\n",
       "      <td>13</td>\n",
       "    </tr>\n",
       "    <tr>\n",
       "      <th>3</th>\n",
       "      <td>2018-11-28 15:52:25</td>\n",
       "      <td>2018-11-28 15:55:45</td>\n",
       "      <td>5</td>\n",
       "      <td>0.0</td>\n",
       "      <td>1</td>\n",
       "      <td>193</td>\n",
       "      <td>193</td>\n",
       "      <td>2</td>\n",
       "      <td>7.55</td>\n",
       "      <td>2018-11-28</td>\n",
       "      <td>2018</td>\n",
       "      <td>11</td>\n",
       "      <td>28</td>\n",
       "      <td>15</td>\n",
       "    </tr>\n",
       "    <tr>\n",
       "      <th>4</th>\n",
       "      <td>2018-11-28 15:56:57</td>\n",
       "      <td>2018-11-28 15:58:33</td>\n",
       "      <td>5</td>\n",
       "      <td>0.0</td>\n",
       "      <td>2</td>\n",
       "      <td>193</td>\n",
       "      <td>193</td>\n",
       "      <td>2</td>\n",
       "      <td>55.55</td>\n",
       "      <td>2018-11-28</td>\n",
       "      <td>2018</td>\n",
       "      <td>11</td>\n",
       "      <td>28</td>\n",
       "      <td>15</td>\n",
       "    </tr>\n",
       "  </tbody>\n",
       "</table>\n",
       "</div>"
      ],
      "text/plain": [
       "  tpep_pickup_datetime tpep_dropoff_datetime  passenger_count  trip_distance  \\\n",
       "0  2019-01-01 00:46:40   2019-01-01 00:53:20                1            1.5   \n",
       "1  2019-01-01 00:59:47   2019-01-01 01:18:59                1            2.6   \n",
       "2  2018-12-21 13:48:30   2018-12-21 13:52:40                3            0.0   \n",
       "3  2018-11-28 15:52:25   2018-11-28 15:55:45                5            0.0   \n",
       "4  2018-11-28 15:56:57   2018-11-28 15:58:33                5            0.0   \n",
       "\n",
       "  RatecodeID PULocationID DOLocationID payment_type  total_amount  \\\n",
       "0          1          151          239            1          9.95   \n",
       "1          1          239          246            1         16.30   \n",
       "2          1          236          236            1          5.80   \n",
       "3          1          193          193            2          7.55   \n",
       "4          2          193          193            2         55.55   \n",
       "\n",
       "  transaction_date  transaction_year  transaction_month  transaction_day  \\\n",
       "0       2019-01-01              2019                  1                1   \n",
       "1       2019-01-01              2019                  1                1   \n",
       "2       2018-12-21              2018                 12               21   \n",
       "3       2018-11-28              2018                 11               28   \n",
       "4       2018-11-28              2018                 11               28   \n",
       "\n",
       "   transaction_hour  \n",
       "0                 0  \n",
       "1                 0  \n",
       "2                13  \n",
       "3                15  \n",
       "4                15  "
      ]
     },
     "execution_count": 33,
     "metadata": {},
     "output_type": "execute_result"
    }
   ],
   "source": [
    "taxi_data_prepared.head()"
   ]
  },
  {
   "cell_type": "markdown",
   "metadata": {},
   "source": [
    "We see from the following histograms that there are also trips recorded with years as high as $2080$; these are clearly data entry errors."
   ]
  },
  {
   "cell_type": "code",
   "execution_count": 34,
   "metadata": {},
   "outputs": [
    {
     "data": {
      "text/plain": [
       "array([[<matplotlib.axes._subplots.AxesSubplot object at 0x000001DB343A7348>,\n",
       "        <matplotlib.axes._subplots.AxesSubplot object at 0x000001DCBDAF9388>,\n",
       "        <matplotlib.axes._subplots.AxesSubplot object at 0x000001DBA49619C8>],\n",
       "       [<matplotlib.axes._subplots.AxesSubplot object at 0x000001DBA499AAC8>,\n",
       "        <matplotlib.axes._subplots.AxesSubplot object at 0x000001DBA49D1C08>,\n",
       "        <matplotlib.axes._subplots.AxesSubplot object at 0x000001DBA4A09CC8>],\n",
       "       [<matplotlib.axes._subplots.AxesSubplot object at 0x000001DBA4A42DC8>,\n",
       "        <matplotlib.axes._subplots.AxesSubplot object at 0x000001DBA4A7AEC8>,\n",
       "        <matplotlib.axes._subplots.AxesSubplot object at 0x000001DBA4A86A88>]],\n",
       "      dtype=object)"
      ]
     },
     "execution_count": 34,
     "metadata": {},
     "output_type": "execute_result"
    },
    {
     "data": {
      "image/png": "[encoded data removed]",
      "text/plain": [
       "<Figure size 1440x720 with 9 Axes>"
      ]
     },
     "metadata": {
      "needs_background": "light"
     },
     "output_type": "display_data"
    }
   ],
   "source": [
    "taxi_data_prepared.hist(bins=60, figsize = (20,10))"
   ]
  },
  {
   "cell_type": "markdown",
   "metadata": {},
   "source": [
    "We therefore delete trips with a transaction year and month that isn't $2019$ and January, respectively."
   ]
  },
  {
   "cell_type": "code",
   "execution_count": 35,
   "metadata": {},
   "outputs": [],
   "source": [
    "# Restricts data set to trips occurring in 2019\n",
    "taxi_data_prepared = taxi_data_prepared[taxi_data_prepared[\"transaction_year\"]==2019]\n",
    "\n",
    "# Restricts data set to trips occuring in January 2019\n",
    "taxi_data_prepared = taxi_data_prepared[taxi_data_prepared[\"transaction_month\"]==1]"
   ]
  },
  {
   "cell_type": "markdown",
   "metadata": {},
   "source": [
    "At this point, we can choose to remove series which we believe will have little influence on our output of \"total_amount\". We separate the influential series into \"categorical\" and \"numerical\" columns based on the type of variable they are."
   ]
  },
  {
   "cell_type": "code",
   "execution_count": 36,
   "metadata": {},
   "outputs": [],
   "source": [
    "# Categorical variables\n",
    "categorical_columns = [\"PULocationID\", \"transaction_date\", \"transaction_month\", \"transaction_day\", \"transaction_hour\"]\n",
    "\n",
    "# Numerical variables\n",
    "numerical_columns = [\"trip_distance\", \"total_amount\"]\n",
    "\n",
    "# total remaining variables\n",
    "all_needed_columns = categorical_columns + numerical_columns"
   ]
  },
  {
   "cell_type": "markdown",
   "metadata": {},
   "source": [
    "We then create a new data frame containing only these reduced set of series."
   ]
  },
  {
   "cell_type": "code",
   "execution_count": 37,
   "metadata": {},
   "outputs": [
    {
     "name": "stdout",
     "output_type": "stream",
     "text": [
      "(7658954, 7)\n"
     ]
    },
    {
     "data": {
      "text/html": [
       "<div>\n",
       "<style scoped>\n",
       "    .dataframe tbody tr th:only-of-type {\n",
       "        vertical-align: middle;\n",
       "    }\n",
       "\n",
       "    .dataframe tbody tr th {\n",
       "        vertical-align: top;\n",
       "    }\n",
       "\n",
       "    .dataframe thead th {\n",
       "        text-align: right;\n",
       "    }\n",
       "</style>\n",
       "<table border=\"1\" class=\"dataframe\">\n",
       "  <thead>\n",
       "    <tr style=\"text-align: right;\">\n",
       "      <th></th>\n",
       "      <th>PULocationID</th>\n",
       "      <th>transaction_date</th>\n",
       "      <th>transaction_month</th>\n",
       "      <th>transaction_day</th>\n",
       "      <th>transaction_hour</th>\n",
       "      <th>trip_distance</th>\n",
       "      <th>total_amount</th>\n",
       "    </tr>\n",
       "  </thead>\n",
       "  <tbody>\n",
       "    <tr>\n",
       "      <th>0</th>\n",
       "      <td>151</td>\n",
       "      <td>2019-01-01</td>\n",
       "      <td>1</td>\n",
       "      <td>1</td>\n",
       "      <td>0</td>\n",
       "      <td>1.5</td>\n",
       "      <td>9.95</td>\n",
       "    </tr>\n",
       "    <tr>\n",
       "      <th>1</th>\n",
       "      <td>239</td>\n",
       "      <td>2019-01-01</td>\n",
       "      <td>1</td>\n",
       "      <td>1</td>\n",
       "      <td>0</td>\n",
       "      <td>2.6</td>\n",
       "      <td>16.30</td>\n",
       "    </tr>\n",
       "    <tr>\n",
       "      <th>7</th>\n",
       "      <td>163</td>\n",
       "      <td>2019-01-01</td>\n",
       "      <td>1</td>\n",
       "      <td>1</td>\n",
       "      <td>0</td>\n",
       "      <td>1.3</td>\n",
       "      <td>9.05</td>\n",
       "    </tr>\n",
       "    <tr>\n",
       "      <th>8</th>\n",
       "      <td>229</td>\n",
       "      <td>2019-01-01</td>\n",
       "      <td>1</td>\n",
       "      <td>1</td>\n",
       "      <td>0</td>\n",
       "      <td>3.7</td>\n",
       "      <td>18.50</td>\n",
       "    </tr>\n",
       "    <tr>\n",
       "      <th>9</th>\n",
       "      <td>141</td>\n",
       "      <td>2019-01-01</td>\n",
       "      <td>1</td>\n",
       "      <td>1</td>\n",
       "      <td>0</td>\n",
       "      <td>2.1</td>\n",
       "      <td>13.00</td>\n",
       "    </tr>\n",
       "  </tbody>\n",
       "</table>\n",
       "</div>"
      ],
      "text/plain": [
       "  PULocationID transaction_date  transaction_month  transaction_day  \\\n",
       "0          151       2019-01-01                  1                1   \n",
       "1          239       2019-01-01                  1                1   \n",
       "7          163       2019-01-01                  1                1   \n",
       "8          229       2019-01-01                  1                1   \n",
       "9          141       2019-01-01                  1                1   \n",
       "\n",
       "   transaction_hour  trip_distance  total_amount  \n",
       "0                 0            1.5          9.95  \n",
       "1                 0            2.6         16.30  \n",
       "7                 0            1.3          9.05  \n",
       "8                 0            3.7         18.50  \n",
       "9                 0            2.1         13.00  "
      ]
     },
     "execution_count": 37,
     "metadata": {},
     "output_type": "execute_result"
    }
   ],
   "source": [
    "# Reduced data frame\n",
    "main_taxi_df = taxi_data_prepared[all_needed_columns]\n",
    "\n",
    "print(main_taxi_df.shape)\n",
    "main_taxi_df.head()"
   ]
  },
  {
   "cell_type": "markdown",
   "metadata": {},
   "source": [
    "We now want to aggregate the numerical values in the reduced data frame. We begin by grouping all transactions which occur within the same hour of the same date and with the same \"PULocationID\". We then aggregate the numerical data by taking the mean of the distances and total amounts of the trips in each group."
   ]
  },
  {
   "cell_type": "code",
   "execution_count": 38,
   "metadata": {},
   "outputs": [
    {
     "data": {
      "text/html": [
       "<div>\n",
       "<style scoped>\n",
       "    .dataframe tbody tr th:only-of-type {\n",
       "        vertical-align: middle;\n",
       "    }\n",
       "\n",
       "    .dataframe tbody tr th {\n",
       "        vertical-align: top;\n",
       "    }\n",
       "\n",
       "    .dataframe thead th {\n",
       "        text-align: right;\n",
       "    }\n",
       "</style>\n",
       "<table border=\"1\" class=\"dataframe\">\n",
       "  <thead>\n",
       "    <tr style=\"text-align: right;\">\n",
       "      <th></th>\n",
       "      <th>PULocationID</th>\n",
       "      <th>transaction_date</th>\n",
       "      <th>transaction_month</th>\n",
       "      <th>transaction_day</th>\n",
       "      <th>transaction_hour</th>\n",
       "      <th>trip_distance</th>\n",
       "      <th>total_amount</th>\n",
       "    </tr>\n",
       "  </thead>\n",
       "  <tbody>\n",
       "    <tr>\n",
       "      <th>0</th>\n",
       "      <td>1</td>\n",
       "      <td>2019-01-01</td>\n",
       "      <td>1</td>\n",
       "      <td>1</td>\n",
       "      <td>2</td>\n",
       "      <td>0.00</td>\n",
       "      <td>21.800</td>\n",
       "    </tr>\n",
       "    <tr>\n",
       "      <th>1</th>\n",
       "      <td>1</td>\n",
       "      <td>2019-01-01</td>\n",
       "      <td>1</td>\n",
       "      <td>1</td>\n",
       "      <td>5</td>\n",
       "      <td>0.00</td>\n",
       "      <td>87.300</td>\n",
       "    </tr>\n",
       "    <tr>\n",
       "      <th>2</th>\n",
       "      <td>1</td>\n",
       "      <td>2019-01-01</td>\n",
       "      <td>1</td>\n",
       "      <td>1</td>\n",
       "      <td>6</td>\n",
       "      <td>0.00</td>\n",
       "      <td>80.300</td>\n",
       "    </tr>\n",
       "    <tr>\n",
       "      <th>3</th>\n",
       "      <td>1</td>\n",
       "      <td>2019-01-01</td>\n",
       "      <td>1</td>\n",
       "      <td>1</td>\n",
       "      <td>8</td>\n",
       "      <td>0.00</td>\n",
       "      <td>128.580</td>\n",
       "    </tr>\n",
       "    <tr>\n",
       "      <th>4</th>\n",
       "      <td>1</td>\n",
       "      <td>2019-01-01</td>\n",
       "      <td>1</td>\n",
       "      <td>1</td>\n",
       "      <td>10</td>\n",
       "      <td>16.90</td>\n",
       "      <td>43.245</td>\n",
       "    </tr>\n",
       "    <tr>\n",
       "      <th>...</th>\n",
       "      <td>...</td>\n",
       "      <td>...</td>\n",
       "      <td>...</td>\n",
       "      <td>...</td>\n",
       "      <td>...</td>\n",
       "      <td>...</td>\n",
       "      <td>...</td>\n",
       "    </tr>\n",
       "    <tr>\n",
       "      <th>102551</th>\n",
       "      <td>98</td>\n",
       "      <td>2019-01-31</td>\n",
       "      <td>1</td>\n",
       "      <td>31</td>\n",
       "      <td>18</td>\n",
       "      <td>16.66</td>\n",
       "      <td>58.060</td>\n",
       "    </tr>\n",
       "    <tr>\n",
       "      <th>102552</th>\n",
       "      <td>99</td>\n",
       "      <td>2019-01-18</td>\n",
       "      <td>1</td>\n",
       "      <td>18</td>\n",
       "      <td>18</td>\n",
       "      <td>1.66</td>\n",
       "      <td>9.800</td>\n",
       "    </tr>\n",
       "    <tr>\n",
       "      <th>102553</th>\n",
       "      <td>99</td>\n",
       "      <td>2019-01-26</td>\n",
       "      <td>1</td>\n",
       "      <td>26</td>\n",
       "      <td>8</td>\n",
       "      <td>0.42</td>\n",
       "      <td>6.000</td>\n",
       "    </tr>\n",
       "    <tr>\n",
       "      <th>102554</th>\n",
       "      <td>99</td>\n",
       "      <td>2019-01-30</td>\n",
       "      <td>1</td>\n",
       "      <td>30</td>\n",
       "      <td>7</td>\n",
       "      <td>2.87</td>\n",
       "      <td>18.050</td>\n",
       "    </tr>\n",
       "    <tr>\n",
       "      <th>102555</th>\n",
       "      <td>99</td>\n",
       "      <td>2019-01-30</td>\n",
       "      <td>1</td>\n",
       "      <td>30</td>\n",
       "      <td>11</td>\n",
       "      <td>31.60</td>\n",
       "      <td>99.320</td>\n",
       "    </tr>\n",
       "  </tbody>\n",
       "</table>\n",
       "<p>102556 rows × 7 columns</p>\n",
       "</div>"
      ],
      "text/plain": [
       "       PULocationID transaction_date  transaction_month  transaction_day  \\\n",
       "0                 1       2019-01-01                  1                1   \n",
       "1                 1       2019-01-01                  1                1   \n",
       "2                 1       2019-01-01                  1                1   \n",
       "3                 1       2019-01-01                  1                1   \n",
       "4                 1       2019-01-01                  1                1   \n",
       "...             ...              ...                ...              ...   \n",
       "102551           98       2019-01-31                  1               31   \n",
       "102552           99       2019-01-18                  1               18   \n",
       "102553           99       2019-01-26                  1               26   \n",
       "102554           99       2019-01-30                  1               30   \n",
       "102555           99       2019-01-30                  1               30   \n",
       "\n",
       "        transaction_hour  trip_distance  total_amount  \n",
       "0                      2           0.00        21.800  \n",
       "1                      5           0.00        87.300  \n",
       "2                      6           0.00        80.300  \n",
       "3                      8           0.00       128.580  \n",
       "4                     10          16.90        43.245  \n",
       "...                  ...            ...           ...  \n",
       "102551                18          16.66        58.060  \n",
       "102552                18           1.66         9.800  \n",
       "102553                 8           0.42         6.000  \n",
       "102554                 7           2.87        18.050  \n",
       "102555                11          31.60        99.320  \n",
       "\n",
       "[102556 rows x 7 columns]"
      ]
     },
     "execution_count": 38,
     "metadata": {},
     "output_type": "execute_result"
    }
   ],
   "source": [
    "# Groups categorical variables and averages the numerical variables in each categorical group\n",
    "taxi_grouped_by_region = main_taxi_df.groupby(categorical_columns).mean().reset_index()\n",
    "\n",
    "taxi_grouped_by_region"
   ]
  },
  {
   "cell_type": "markdown",
   "metadata": {},
   "source": [
    "We add a new column which details how many trips fall into each categorical group."
   ]
  },
  {
   "cell_type": "code",
   "execution_count": 39,
   "metadata": {},
   "outputs": [
    {
     "name": "stdout",
     "output_type": "stream",
     "text": [
      "(102556, 8)\n"
     ]
    },
    {
     "data": {
      "text/html": [
       "<div>\n",
       "<style scoped>\n",
       "    .dataframe tbody tr th:only-of-type {\n",
       "        vertical-align: middle;\n",
       "    }\n",
       "\n",
       "    .dataframe tbody tr th {\n",
       "        vertical-align: top;\n",
       "    }\n",
       "\n",
       "    .dataframe thead th {\n",
       "        text-align: right;\n",
       "    }\n",
       "</style>\n",
       "<table border=\"1\" class=\"dataframe\">\n",
       "  <thead>\n",
       "    <tr style=\"text-align: right;\">\n",
       "      <th></th>\n",
       "      <th>PULocationID</th>\n",
       "      <th>transaction_date</th>\n",
       "      <th>transaction_month</th>\n",
       "      <th>transaction_day</th>\n",
       "      <th>transaction_hour</th>\n",
       "      <th>trip_distance</th>\n",
       "      <th>total_amount</th>\n",
       "      <th>count_of_transactions</th>\n",
       "    </tr>\n",
       "  </thead>\n",
       "  <tbody>\n",
       "    <tr>\n",
       "      <th>0</th>\n",
       "      <td>1</td>\n",
       "      <td>2019-01-01</td>\n",
       "      <td>1</td>\n",
       "      <td>1</td>\n",
       "      <td>2</td>\n",
       "      <td>0.0</td>\n",
       "      <td>21.800</td>\n",
       "      <td>1</td>\n",
       "    </tr>\n",
       "    <tr>\n",
       "      <th>1</th>\n",
       "      <td>1</td>\n",
       "      <td>2019-01-01</td>\n",
       "      <td>1</td>\n",
       "      <td>1</td>\n",
       "      <td>5</td>\n",
       "      <td>0.0</td>\n",
       "      <td>87.300</td>\n",
       "      <td>1</td>\n",
       "    </tr>\n",
       "    <tr>\n",
       "      <th>2</th>\n",
       "      <td>1</td>\n",
       "      <td>2019-01-01</td>\n",
       "      <td>1</td>\n",
       "      <td>1</td>\n",
       "      <td>6</td>\n",
       "      <td>0.0</td>\n",
       "      <td>80.300</td>\n",
       "      <td>1</td>\n",
       "    </tr>\n",
       "    <tr>\n",
       "      <th>3</th>\n",
       "      <td>1</td>\n",
       "      <td>2019-01-01</td>\n",
       "      <td>1</td>\n",
       "      <td>1</td>\n",
       "      <td>8</td>\n",
       "      <td>0.0</td>\n",
       "      <td>128.580</td>\n",
       "      <td>2</td>\n",
       "    </tr>\n",
       "    <tr>\n",
       "      <th>4</th>\n",
       "      <td>1</td>\n",
       "      <td>2019-01-01</td>\n",
       "      <td>1</td>\n",
       "      <td>1</td>\n",
       "      <td>10</td>\n",
       "      <td>16.9</td>\n",
       "      <td>43.245</td>\n",
       "      <td>4</td>\n",
       "    </tr>\n",
       "  </tbody>\n",
       "</table>\n",
       "</div>"
      ],
      "text/plain": [
       "  PULocationID transaction_date  transaction_month  transaction_day  \\\n",
       "0            1       2019-01-01                  1                1   \n",
       "1            1       2019-01-01                  1                1   \n",
       "2            1       2019-01-01                  1                1   \n",
       "3            1       2019-01-01                  1                1   \n",
       "4            1       2019-01-01                  1                1   \n",
       "\n",
       "   transaction_hour  trip_distance  total_amount  count_of_transactions  \n",
       "0                 2            0.0        21.800                      1  \n",
       "1                 5            0.0        87.300                      1  \n",
       "2                 6            0.0        80.300                      1  \n",
       "3                 8            0.0       128.580                      2  \n",
       "4                10           16.9        43.245                      4  "
      ]
     },
     "execution_count": 39,
     "metadata": {},
     "output_type": "execute_result"
    }
   ],
   "source": [
    "# Counts the number of trips in each categorical group\n",
    "taxi_grouped_by_region[\"count_of_transactions\"] = main_taxi_df.groupby(categorical_columns).count().reset_index()[\"total_amount\"]\n",
    "\n",
    "print(taxi_grouped_by_region.shape)\n",
    "taxi_grouped_by_region.head()"
   ]
  },
  {
   "cell_type": "markdown",
   "metadata": {},
   "source": [
    "# 5. Benchmark model <a id='benchmark_model'></a>\n",
    "[Back to top](#table_of_contents)\n",
    "\n",
    "We now construct a benchmark model based on the current data set."
   ]
  },
  {
   "cell_type": "code",
   "execution_count": 40,
   "metadata": {},
   "outputs": [],
   "source": [
    "# Checkpoint for data set\n",
    "data_for_benchmark_model = taxi_grouped_by_region.copy()"
   ]
  },
  {
   "cell_type": "markdown",
   "metadata": {},
   "source": [
    "We define the input and output variables variables here. Note that we remove \"trip_distance\" as an input variable. This is because trip_distance and total_amount are directly correlated, and the distance of the trip would not be known a priori. Therefore, it cannot contribute to our predictory model."
   ]
  },
  {
   "cell_type": "code",
   "execution_count": 41,
   "metadata": {},
   "outputs": [],
   "source": [
    "categorical_features_benchmark = [\"PULocationID\", \"transaction_month\", \"transaction_day\", \"transaction_hour\"]\n",
    "numerical_features_benchmark = [\"trip_distance\"]\n",
    "\n",
    "# Input variables\n",
    "input_features_benchmark = categorical_features_benchmark\n",
    "\n",
    "# Output variable\n",
    "output_feature_benchmark = \"total_amount\""
   ]
  },
  {
   "cell_type": "markdown",
   "metadata": {},
   "source": [
    "## 5.1 Train-test split"
   ]
  },
  {
   "cell_type": "markdown",
   "metadata": {},
   "source": [
    "We now split the data set into a training set and a testing set. The former will train our model to make predictions, whilst the latter will be used to evaluate the accuracy of the model compared with the original data. Given the size of our original data set, we let the testing set be $1/3$ the size of the original data set."
   ]
  },
  {
   "cell_type": "code",
   "execution_count": 42,
   "metadata": {},
   "outputs": [],
   "source": [
    "# Imports data splitting tool\n",
    "from sklearn.model_selection import train_test_split\n",
    "\n",
    "# Input for benchmark model\n",
    "x_bench = data_for_benchmark_model[input_features_benchmark]\n",
    "\n",
    "# Output data values\n",
    "y_bench = data_for_benchmark_model[output_feature_benchmark]\n",
    "\n",
    "# Convert categorical input variables into dummy variables\n",
    "X_bench = pd.get_dummies(x_bench)\n",
    "\n",
    "# Splits input and output data sets into testing and training sets\n",
    "X_train_b, X_test_b, y_train_b, y_test_b = train_test_split(X_bench, y_bench, test_size = 0.33, random_state = 42)"
   ]
  },
  {
   "cell_type": "markdown",
   "metadata": {},
   "source": [
    "## 5.2 Fit a model to the data\n",
    "\n",
    "We use a Decision Tree machine learning model here, which belongs to a family of supervised learning algorithms. One notable advantage of the Decision Tree is that it can deal with both classification __and__ regression problems (i.e. problems where the output variable is either discrete or continuous).\n",
    "\n",
    "In the context of our problem, the Decision Tree will create a model which predicts the value of the \"total_amount\" by learning simple decision rules inferred from previous training data. Since our output variable is continuous, we will adopt the continuous variable decision tree model \"DecisionTreeRegressor\"."
   ]
  },
  {
   "cell_type": "code",
   "execution_count": 43,
   "metadata": {},
   "outputs": [
    {
     "data": {
      "text/plain": [
       "DecisionTreeRegressor(ccp_alpha=0.0, criterion='mse', max_depth=10,\n",
       "                      max_features=None, max_leaf_nodes=None,\n",
       "                      min_impurity_decrease=0.0, min_impurity_split=None,\n",
       "                      min_samples_leaf=1, min_samples_split=2,\n",
       "                      min_weight_fraction_leaf=0.0, presort='deprecated',\n",
       "                      random_state=None, splitter='best')"
      ]
     },
     "execution_count": 43,
     "metadata": {},
     "output_type": "execute_result"
    }
   ],
   "source": [
    "# Imports DecisionTreeRegressor\n",
    "from sklearn.tree import DecisionTreeRegressor\n",
    "\n",
    "# DecisionTreeRegressor function\n",
    "tree = DecisionTreeRegressor(max_depth = 10)\n",
    "tree.fit(X_train_b, y_train_b)"
   ]
  },
  {
   "cell_type": "markdown",
   "metadata": {},
   "source": [
    "## 5.3 Model Evaluation\n",
    "\n",
    "We now assess the accuracy of the predictions of this benchmark model compared with the testing output data. To do this, we consider several regression metrics. Firstly, let $n$ be the number of trips in the data set, and $y_{t}^{(i)}$ and $y_{p}^{(i)}$ be the test and predicted total_amount values, respectively, for the $i^{th}$ trip, where $i = 1, 2, \\ldots n$. Then, we measure the performance of the model based on the following metric:\n",
    "\n",
    "__Mean absolute error__\n",
    "\n",
    "$\\frac{1}{n}\\sum_{i = 1}^{n}|y_t^{(i)} - y_p^{(i)}|$\n",
    "\n",
    "__Mean squared error__\n",
    "\n",
    "$\\frac{1}{n}\\sum_{i = 1}^{n}(y_t^{(i)} - y_p^{(i)})^2$\n",
    "\n",
    "__Coefficient of determination__\n",
    "\n",
    "$1 - \\frac{\\sum_{i = 1}^{n}\\left(y_t^{(i)} - y_p^{(i)}\\right)^2}{\\sum_{i = 1}^{n}\\left(y_t^{(i)} - \\bar{y}_t\\right)^2},\\,\\,\\,\\,\\,\\,\\,\\,$where$\\,\\,\\,\\,\\,\\,\\,\\,$ $\\bar{y}_{t} = \\sum_{i=1}^{n}y_{t}^{(i)}$.  "
   ]
  },
  {
   "cell_type": "code",
   "execution_count": 44,
   "metadata": {},
   "outputs": [
    {
     "name": "stdout",
     "output_type": "stream",
     "text": [
      "mean abs. error: 9.776995131720064\n",
      "mean sqd. error: 217.1907827011311\n",
      "r2: 0.22494184560924413\n"
     ]
    }
   ],
   "source": [
    "# Decision Tree Regression model\n",
    "model_at_hand = tree\n",
    "\n",
    "# Predictions for total_amount from feeding test input data into the model\n",
    "y_pred_b = model_at_hand.predict(X_test_b)\n",
    "\n",
    "# Mean absolute error\n",
    "from sklearn.metrics import mean_absolute_error\n",
    "\n",
    "# Mean squared error\n",
    "from sklearn.metrics import mean_squared_error\n",
    "\n",
    "# r^2 value\n",
    "from sklearn.metrics import r2_score\n",
    "\n",
    "# square root function\n",
    "from math import sqrt\n",
    "\n",
    "# Mean absolute error between test output value and model-predicted output value\n",
    "print(\"mean abs. error:\", mean_absolute_error(y_test_b, y_pred_b))\n",
    "\n",
    "# Mean squared error between test output value and model-predicted output value\n",
    "print(\"mean sqd. error:\", mean_squared_error(y_test_b, y_pred_b))\n",
    "\n",
    "# r^2 value\n",
    "print(\"r2:\", r2_score(y_test_b, y_pred_b))"
   ]
  },
  {
   "cell_type": "code",
   "execution_count": 45,
   "metadata": {},
   "outputs": [
    {
     "data": {
      "text/plain": [
       "<matplotlib.axes._subplots.AxesSubplot at 0x1dba7f51508>"
      ]
     },
     "execution_count": 45,
     "metadata": {},
     "output_type": "execute_result"
    },
    {
     "data": {
      "image/png": "[encoded data removed]",
      "text/plain": [
       "<Figure size 720x360 with 1 Axes>"
      ]
     },
     "metadata": {
      "needs_background": "light"
     },
     "output_type": "display_data"
    }
   ],
   "source": [
    "# Data frame with true and predicted output value series\n",
    "data = {\"True\": y_test_b, \"Pred\": y_pred_b}\n",
    "results = pd.DataFrame(data)\n",
    "\n",
    "# relationship between true and predicted values\n",
    "results.plot(kind = \"scatter\", x = \"True\", y = \"Pred\", figsize = (10, 5))"
   ]
  },
  {
   "cell_type": "markdown",
   "metadata": {},
   "source": [
    "For high model performance, we seek a MAE and MSE close to zero, and a coefficient of determination close to one. A coefficient of determination equal to one indicates perfect agreement between the true and predicted output values. Clearly, we can see that neither of these criteria are met with our benchmark model. Therefore, some refinement and feature engineering is required to improve model performance. "
   ]
  },
  {
   "cell_type": "markdown",
   "metadata": {},
   "source": [
    "# 6. Feature engineering <a id='feature_engineering'></a>\n",
    "[Back to top](#table_of_contents)\n",
    "\n",
    "In this section, we modify existing input features, and engineer new input features, in order to improve the performance of our model."
   ]
  },
  {
   "cell_type": "markdown",
   "metadata": {},
   "source": [
    "We begin by creating a checkpoint for our existing data set."
   ]
  },
  {
   "cell_type": "code",
   "execution_count": 46,
   "metadata": {},
   "outputs": [
    {
     "data": {
      "text/html": [
       "<div>\n",
       "<style scoped>\n",
       "    .dataframe tbody tr th:only-of-type {\n",
       "        vertical-align: middle;\n",
       "    }\n",
       "\n",
       "    .dataframe tbody tr th {\n",
       "        vertical-align: top;\n",
       "    }\n",
       "\n",
       "    .dataframe thead th {\n",
       "        text-align: right;\n",
       "    }\n",
       "</style>\n",
       "<table border=\"1\" class=\"dataframe\">\n",
       "  <thead>\n",
       "    <tr style=\"text-align: right;\">\n",
       "      <th></th>\n",
       "      <th>PULocationID</th>\n",
       "      <th>transaction_date</th>\n",
       "      <th>transaction_month</th>\n",
       "      <th>transaction_day</th>\n",
       "      <th>transaction_hour</th>\n",
       "      <th>trip_distance</th>\n",
       "      <th>total_amount</th>\n",
       "      <th>count_of_transactions</th>\n",
       "    </tr>\n",
       "  </thead>\n",
       "  <tbody>\n",
       "    <tr>\n",
       "      <th>0</th>\n",
       "      <td>1</td>\n",
       "      <td>2019-01-01</td>\n",
       "      <td>1</td>\n",
       "      <td>1</td>\n",
       "      <td>2</td>\n",
       "      <td>0.0</td>\n",
       "      <td>21.800</td>\n",
       "      <td>1</td>\n",
       "    </tr>\n",
       "    <tr>\n",
       "      <th>1</th>\n",
       "      <td>1</td>\n",
       "      <td>2019-01-01</td>\n",
       "      <td>1</td>\n",
       "      <td>1</td>\n",
       "      <td>5</td>\n",
       "      <td>0.0</td>\n",
       "      <td>87.300</td>\n",
       "      <td>1</td>\n",
       "    </tr>\n",
       "    <tr>\n",
       "      <th>2</th>\n",
       "      <td>1</td>\n",
       "      <td>2019-01-01</td>\n",
       "      <td>1</td>\n",
       "      <td>1</td>\n",
       "      <td>6</td>\n",
       "      <td>0.0</td>\n",
       "      <td>80.300</td>\n",
       "      <td>1</td>\n",
       "    </tr>\n",
       "    <tr>\n",
       "      <th>3</th>\n",
       "      <td>1</td>\n",
       "      <td>2019-01-01</td>\n",
       "      <td>1</td>\n",
       "      <td>1</td>\n",
       "      <td>8</td>\n",
       "      <td>0.0</td>\n",
       "      <td>128.580</td>\n",
       "      <td>2</td>\n",
       "    </tr>\n",
       "    <tr>\n",
       "      <th>4</th>\n",
       "      <td>1</td>\n",
       "      <td>2019-01-01</td>\n",
       "      <td>1</td>\n",
       "      <td>1</td>\n",
       "      <td>10</td>\n",
       "      <td>16.9</td>\n",
       "      <td>43.245</td>\n",
       "      <td>4</td>\n",
       "    </tr>\n",
       "  </tbody>\n",
       "</table>\n",
       "</div>"
      ],
      "text/plain": [
       "  PULocationID transaction_date  transaction_month  transaction_day  \\\n",
       "0            1       2019-01-01                  1                1   \n",
       "1            1       2019-01-01                  1                1   \n",
       "2            1       2019-01-01                  1                1   \n",
       "3            1       2019-01-01                  1                1   \n",
       "4            1       2019-01-01                  1                1   \n",
       "\n",
       "   transaction_hour  trip_distance  total_amount  count_of_transactions  \n",
       "0                 2            0.0        21.800                      1  \n",
       "1                 5            0.0        87.300                      1  \n",
       "2                 6            0.0        80.300                      1  \n",
       "3                 8            0.0       128.580                      2  \n",
       "4                10           16.9        43.245                      4  "
      ]
     },
     "execution_count": 46,
     "metadata": {},
     "output_type": "execute_result"
    }
   ],
   "source": [
    "taxi_grouped_by_region.head()"
   ]
  },
  {
   "cell_type": "code",
   "execution_count": 47,
   "metadata": {},
   "outputs": [],
   "source": [
    "# Checkpoint for data set\n",
    "data_with_new_features = taxi_grouped_by_region.copy()"
   ]
  },
  {
   "cell_type": "markdown",
   "metadata": {},
   "source": [
    "## 6.1 Date related features\n",
    "\n",
    "It is logical that the total_amount will be influenced by whether the trip occurs on a weekday or a weekend, and also whether the trip occurs on a US national holiday. On weekends or holidays, individuals may be going out with friends or family, and may not want to take their car. Therefore, they will be more likely to take a taxi. Thus, higher average total amounts in a given hour of a weekend day or holiday could be possible."
   ]
  },
  {
   "cell_type": "markdown",
   "metadata": {},
   "source": [
    "We can add a \"transaction_week_day\" column which marks the day number corresponding to each trip ($0$ to $6$ corresponds to Monday to Sunday)."
   ]
  },
  {
   "cell_type": "code",
   "execution_count": 48,
   "metadata": {},
   "outputs": [],
   "source": [
    "# Creates new column marking weekday of each trip\n",
    "data_with_new_features[\"transaction_week_day\"] = data_with_new_features[\"transaction_date\"].dt.weekday"
   ]
  },
  {
   "cell_type": "markdown",
   "metadata": {},
   "source": [
    "We can then add a Boolean feature which tells us whether a given trip occurs on a weekend or not."
   ]
  },
  {
   "cell_type": "code",
   "execution_count": 49,
   "metadata": {},
   "outputs": [],
   "source": [
    "# Function determining whether a given day occurs on the weekend\n",
    "def weekend(x):\n",
    "    return True if x == 5 or x == 6 else False\n",
    "\n",
    "# Boolean feature telling us whether a given trip occurs on a weekend\n",
    "data_with_new_features[\"weekend\"] = data_with_new_features[\"transaction_week_day\"].apply(weekend)"
   ]
  },
  {
   "cell_type": "markdown",
   "metadata": {},
   "source": [
    "The same logic applies to holidays. We can import the US holiday calendar through pandas, and create a Boolean feature telling us whether a given trip occurs on a holiday."
   ]
  },
  {
   "cell_type": "code",
   "execution_count": 50,
   "metadata": {},
   "outputs": [],
   "source": [
    "# Imports US national holiday calendar\n",
    "from pandas.tseries.holiday import USFederalHolidayCalendar\n",
    "\n",
    "# Defines series of US national holidays in 2019\n",
    "cal = USFederalHolidayCalendar()\n",
    "holidays = cal.holidays(start = \"2018\", end = \"2020\").date\n",
    "\n",
    "# Boolean series stating whether each trip date is a national holiday\n",
    "data_with_new_features[\"is_holiday\"] = data_with_new_features[\"transaction_date\"].isin(holidays)"
   ]
  },
  {
   "cell_type": "markdown",
   "metadata": {},
   "source": [
    "## 6.2 Borough information\n",
    "\n",
    "We can also add a series which details the borough associated with each pick up location ID."
   ]
  },
  {
   "cell_type": "code",
   "execution_count": 51,
   "metadata": {},
   "outputs": [
    {
     "data": {
      "text/html": [
       "<div>\n",
       "<style scoped>\n",
       "    .dataframe tbody tr th:only-of-type {\n",
       "        vertical-align: middle;\n",
       "    }\n",
       "\n",
       "    .dataframe tbody tr th {\n",
       "        vertical-align: top;\n",
       "    }\n",
       "\n",
       "    .dataframe thead th {\n",
       "        text-align: right;\n",
       "    }\n",
       "</style>\n",
       "<table border=\"1\" class=\"dataframe\">\n",
       "  <thead>\n",
       "    <tr style=\"text-align: right;\">\n",
       "      <th></th>\n",
       "      <th>LocationID</th>\n",
       "      <th>Borough</th>\n",
       "    </tr>\n",
       "  </thead>\n",
       "  <tbody>\n",
       "    <tr>\n",
       "      <th>0</th>\n",
       "      <td>1</td>\n",
       "      <td>EWR</td>\n",
       "    </tr>\n",
       "    <tr>\n",
       "      <th>1</th>\n",
       "      <td>2</td>\n",
       "      <td>Queens</td>\n",
       "    </tr>\n",
       "    <tr>\n",
       "      <th>2</th>\n",
       "      <td>3</td>\n",
       "      <td>Bronx</td>\n",
       "    </tr>\n",
       "    <tr>\n",
       "      <th>3</th>\n",
       "      <td>4</td>\n",
       "      <td>Manhattan</td>\n",
       "    </tr>\n",
       "    <tr>\n",
       "      <th>4</th>\n",
       "      <td>5</td>\n",
       "      <td>Staten Island</td>\n",
       "    </tr>\n",
       "  </tbody>\n",
       "</table>\n",
       "</div>"
      ],
      "text/plain": [
       "  LocationID        Borough\n",
       "0          1            EWR\n",
       "1          2         Queens\n",
       "2          3          Bronx\n",
       "3          4      Manhattan\n",
       "4          5  Staten Island"
      ]
     },
     "execution_count": 51,
     "metadata": {},
     "output_type": "execute_result"
    }
   ],
   "source": [
    "# Data set for taxi zones\n",
    "zone_lookup = pd.read_csv(\"data/taxi_zone_lookup.csv\")\n",
    "\n",
    "# Reduces taxi zone lookup set to two series\n",
    "zone_lookup = zone_lookup[[\"LocationID\", \"Borough\"]]\n",
    "\n",
    "# Converts location ID values to strings\n",
    "zone_lookup[\"LocationID\"] = zone_lookup[\"LocationID\"].astype(str)\n",
    "\n",
    "zone_lookup.head()"
   ]
  },
  {
   "cell_type": "markdown",
   "metadata": {},
   "source": [
    "We can merge our original data set with the zone_lookup data set."
   ]
  },
  {
   "cell_type": "code",
   "execution_count": 52,
   "metadata": {},
   "outputs": [
    {
     "data": {
      "text/html": [
       "<div>\n",
       "<style scoped>\n",
       "    .dataframe tbody tr th:only-of-type {\n",
       "        vertical-align: middle;\n",
       "    }\n",
       "\n",
       "    .dataframe tbody tr th {\n",
       "        vertical-align: top;\n",
       "    }\n",
       "\n",
       "    .dataframe thead th {\n",
       "        text-align: right;\n",
       "    }\n",
       "</style>\n",
       "<table border=\"1\" class=\"dataframe\">\n",
       "  <thead>\n",
       "    <tr style=\"text-align: right;\">\n",
       "      <th></th>\n",
       "      <th>PULocationID</th>\n",
       "      <th>transaction_date</th>\n",
       "      <th>transaction_month</th>\n",
       "      <th>transaction_day</th>\n",
       "      <th>transaction_hour</th>\n",
       "      <th>trip_distance</th>\n",
       "      <th>total_amount</th>\n",
       "      <th>count_of_transactions</th>\n",
       "      <th>transaction_week_day</th>\n",
       "      <th>weekend</th>\n",
       "      <th>is_holiday</th>\n",
       "      <th>LocationID</th>\n",
       "      <th>Borough</th>\n",
       "    </tr>\n",
       "  </thead>\n",
       "  <tbody>\n",
       "    <tr>\n",
       "      <th>0</th>\n",
       "      <td>1</td>\n",
       "      <td>2019-01-01</td>\n",
       "      <td>1</td>\n",
       "      <td>1</td>\n",
       "      <td>2</td>\n",
       "      <td>0.0</td>\n",
       "      <td>21.800</td>\n",
       "      <td>1</td>\n",
       "      <td>1</td>\n",
       "      <td>False</td>\n",
       "      <td>True</td>\n",
       "      <td>1</td>\n",
       "      <td>EWR</td>\n",
       "    </tr>\n",
       "    <tr>\n",
       "      <th>1</th>\n",
       "      <td>1</td>\n",
       "      <td>2019-01-01</td>\n",
       "      <td>1</td>\n",
       "      <td>1</td>\n",
       "      <td>5</td>\n",
       "      <td>0.0</td>\n",
       "      <td>87.300</td>\n",
       "      <td>1</td>\n",
       "      <td>1</td>\n",
       "      <td>False</td>\n",
       "      <td>True</td>\n",
       "      <td>1</td>\n",
       "      <td>EWR</td>\n",
       "    </tr>\n",
       "    <tr>\n",
       "      <th>2</th>\n",
       "      <td>1</td>\n",
       "      <td>2019-01-01</td>\n",
       "      <td>1</td>\n",
       "      <td>1</td>\n",
       "      <td>6</td>\n",
       "      <td>0.0</td>\n",
       "      <td>80.300</td>\n",
       "      <td>1</td>\n",
       "      <td>1</td>\n",
       "      <td>False</td>\n",
       "      <td>True</td>\n",
       "      <td>1</td>\n",
       "      <td>EWR</td>\n",
       "    </tr>\n",
       "    <tr>\n",
       "      <th>3</th>\n",
       "      <td>1</td>\n",
       "      <td>2019-01-01</td>\n",
       "      <td>1</td>\n",
       "      <td>1</td>\n",
       "      <td>8</td>\n",
       "      <td>0.0</td>\n",
       "      <td>128.580</td>\n",
       "      <td>2</td>\n",
       "      <td>1</td>\n",
       "      <td>False</td>\n",
       "      <td>True</td>\n",
       "      <td>1</td>\n",
       "      <td>EWR</td>\n",
       "    </tr>\n",
       "    <tr>\n",
       "      <th>4</th>\n",
       "      <td>1</td>\n",
       "      <td>2019-01-01</td>\n",
       "      <td>1</td>\n",
       "      <td>1</td>\n",
       "      <td>10</td>\n",
       "      <td>16.9</td>\n",
       "      <td>43.245</td>\n",
       "      <td>4</td>\n",
       "      <td>1</td>\n",
       "      <td>False</td>\n",
       "      <td>True</td>\n",
       "      <td>1</td>\n",
       "      <td>EWR</td>\n",
       "    </tr>\n",
       "  </tbody>\n",
       "</table>\n",
       "</div>"
      ],
      "text/plain": [
       "  PULocationID transaction_date  transaction_month  transaction_day  \\\n",
       "0            1       2019-01-01                  1                1   \n",
       "1            1       2019-01-01                  1                1   \n",
       "2            1       2019-01-01                  1                1   \n",
       "3            1       2019-01-01                  1                1   \n",
       "4            1       2019-01-01                  1                1   \n",
       "\n",
       "   transaction_hour  trip_distance  total_amount  count_of_transactions  \\\n",
       "0                 2            0.0        21.800                      1   \n",
       "1                 5            0.0        87.300                      1   \n",
       "2                 6            0.0        80.300                      1   \n",
       "3                 8            0.0       128.580                      2   \n",
       "4                10           16.9        43.245                      4   \n",
       "\n",
       "   transaction_week_day  weekend  is_holiday LocationID Borough  \n",
       "0                     1    False        True          1     EWR  \n",
       "1                     1    False        True          1     EWR  \n",
       "2                     1    False        True          1     EWR  \n",
       "3                     1    False        True          1     EWR  \n",
       "4                     1    False        True          1     EWR  "
      ]
     },
     "execution_count": 52,
     "metadata": {},
     "output_type": "execute_result"
    }
   ],
   "source": [
    "# Combines original data set with zone_lookup\n",
    "data_with_new_features = data_with_new_features.merge(zone_lookup, left_on = \"PULocationID\", right_on = \"LocationID\", how = \"left\")\n",
    "data_with_new_features.head()"
   ]
  },
  {
   "cell_type": "code",
   "execution_count": 53,
   "metadata": {},
   "outputs": [
    {
     "data": {
      "text/plain": [
       "Manhattan        45309\n",
       "Brooklyn         23633\n",
       "Queens           22002\n",
       "Bronx             9586\n",
       "Unknown           1453\n",
       "Staten Island      302\n",
       "EWR                271\n",
       "Name: Borough, dtype: int64"
      ]
     },
     "execution_count": 53,
     "metadata": {},
     "output_type": "execute_result"
    }
   ],
   "source": [
    "data_with_new_features[\"Borough\"].value_counts()"
   ]
  },
  {
   "cell_type": "markdown",
   "metadata": {},
   "source": [
    "## 6.3 Weather related features\n",
    "\n",
    "Weather may also influence the total_amount value. For instance, if it is cold or raining, people are far more likely to take a taxi than walk. We can read a weather database for NYC into the notebook. This gives information on weather features such as temperature, humidity, wind speed etc. Here is the link to this data set:\n",
    "\n",
    "[nyc_weather.csv](https://cdn.fs.teachablecdn.com/3ybIPYgSQbGSnY40pfHk)"
   ]
  },
  {
   "cell_type": "code",
   "execution_count": 54,
   "metadata": {},
   "outputs": [
    {
     "data": {
      "text/html": [
       "<div>\n",
       "<style scoped>\n",
       "    .dataframe tbody tr th:only-of-type {\n",
       "        vertical-align: middle;\n",
       "    }\n",
       "\n",
       "    .dataframe tbody tr th {\n",
       "        vertical-align: top;\n",
       "    }\n",
       "\n",
       "    .dataframe thead th {\n",
       "        text-align: right;\n",
       "    }\n",
       "</style>\n",
       "<table border=\"1\" class=\"dataframe\">\n",
       "  <thead>\n",
       "    <tr style=\"text-align: right;\">\n",
       "      <th></th>\n",
       "      <th>date and time</th>\n",
       "      <th>temperature</th>\n",
       "      <th>humidity</th>\n",
       "      <th>wind speed</th>\n",
       "      <th>cloud cover</th>\n",
       "      <th>amount of precipitation</th>\n",
       "    </tr>\n",
       "  </thead>\n",
       "  <tbody>\n",
       "    <tr>\n",
       "      <th>0</th>\n",
       "      <td>31.12.2019 22:00</td>\n",
       "      <td>6.1</td>\n",
       "      <td>65</td>\n",
       "      <td>6</td>\n",
       "      <td>100%.</td>\n",
       "      <td>0.3</td>\n",
       "    </tr>\n",
       "    <tr>\n",
       "      <th>1</th>\n",
       "      <td>31.12.2019 19:00</td>\n",
       "      <td>6.7</td>\n",
       "      <td>71</td>\n",
       "      <td>5</td>\n",
       "      <td>70 – 80%.</td>\n",
       "      <td>NaN</td>\n",
       "    </tr>\n",
       "    <tr>\n",
       "      <th>2</th>\n",
       "      <td>31.12.2019 16:00</td>\n",
       "      <td>7.2</td>\n",
       "      <td>66</td>\n",
       "      <td>5</td>\n",
       "      <td>50%.</td>\n",
       "      <td>NaN</td>\n",
       "    </tr>\n",
       "    <tr>\n",
       "      <th>3</th>\n",
       "      <td>31.12.2019 13:00</td>\n",
       "      <td>6.1</td>\n",
       "      <td>76</td>\n",
       "      <td>3</td>\n",
       "      <td>100%.</td>\n",
       "      <td>Trace of precipitation</td>\n",
       "    </tr>\n",
       "    <tr>\n",
       "      <th>4</th>\n",
       "      <td>31.12.2019 10:00</td>\n",
       "      <td>4.4</td>\n",
       "      <td>83</td>\n",
       "      <td>2</td>\n",
       "      <td>100%.</td>\n",
       "      <td>Trace of precipitation</td>\n",
       "    </tr>\n",
       "  </tbody>\n",
       "</table>\n",
       "</div>"
      ],
      "text/plain": [
       "      date and time  temperature  humidity  wind speed cloud cover  \\\n",
       "0  31.12.2019 22:00          6.1        65           6       100%.   \n",
       "1  31.12.2019 19:00          6.7        71           5   70 – 80%.   \n",
       "2  31.12.2019 16:00          7.2        66           5        50%.   \n",
       "3  31.12.2019 13:00          6.1        76           3       100%.   \n",
       "4  31.12.2019 10:00          4.4        83           2       100%.   \n",
       "\n",
       "  amount of precipitation  \n",
       "0                     0.3  \n",
       "1                     NaN  \n",
       "2                     NaN  \n",
       "3  Trace of precipitation  \n",
       "4  Trace of precipitation  "
      ]
     },
     "execution_count": 54,
     "metadata": {},
     "output_type": "execute_result"
    }
   ],
   "source": [
    "# Reads in nyc_weather.csv \n",
    "nyc_weather = pd.read_csv(\"data/nyc_weather.csv\")\n",
    "nyc_weather.head()"
   ]
  },
  {
   "cell_type": "markdown",
   "metadata": {},
   "source": [
    "We see below that we need to adjust the data types in some series. For instance, date and time objects should be changed to pandas datetime objects, and cloud cover and amount of precipitation objects should be changed to floats."
   ]
  },
  {
   "cell_type": "code",
   "execution_count": 55,
   "metadata": {},
   "outputs": [
    {
     "data": {
      "text/plain": [
       "date and time               object\n",
       "temperature                float64\n",
       "humidity                     int64\n",
       "wind speed                   int64\n",
       "cloud cover                 object\n",
       "amount of precipitation     object\n",
       "dtype: object"
      ]
     },
     "execution_count": 55,
     "metadata": {},
     "output_type": "execute_result"
    }
   ],
   "source": [
    "nyc_weather.dtypes"
   ]
  },
  {
   "cell_type": "markdown",
   "metadata": {},
   "source": [
    "We want to convert each cloud cover percentage value or range to a single float value."
   ]
  },
  {
   "cell_type": "code",
   "execution_count": 56,
   "metadata": {},
   "outputs": [
    {
     "data": {
      "text/plain": [
       "70 – 80%.                                                     973\n",
       "100%.                                                         896\n",
       "20–30%.                                                       479\n",
       "50%.                                                          413\n",
       "no clouds                                                     168\n",
       "Sky obscured by fog and/or other meteorological phenomena.      3\n",
       "Name: cloud cover, dtype: int64"
      ]
     },
     "execution_count": 56,
     "metadata": {},
     "output_type": "execute_result"
    }
   ],
   "source": [
    "nyc_weather[\"cloud cover\"].value_counts()"
   ]
  },
  {
   "cell_type": "markdown",
   "metadata": {},
   "source": [
    "We also need a numerical representation for \"Trace of precipitation\" in the \"amount of precipitation column\"."
   ]
  },
  {
   "cell_type": "code",
   "execution_count": 57,
   "metadata": {},
   "outputs": [
    {
     "data": {
      "text/plain": [
       "Trace of precipitation    266\n",
       "0.3                        61\n",
       "2.0                        49\n",
       "1.0                        45\n",
       "0.5                        42\n",
       "0.8                        42\n",
       "4.0                        33\n",
       "5.0                        24\n",
       "3.0                        23\n",
       "6.0                        19\n",
       "8.0                        13\n",
       "7.0                        13\n",
       "9.0                        11\n",
       "10.0                       10\n",
       "13.0                        7\n",
       "12.0                        7\n",
       "15.0                        6\n",
       "11.0                        5\n",
       "16.0                        3\n",
       "14.0                        2\n",
       "22.0                        2\n",
       "29.0                        2\n",
       "35.0                        1\n",
       "18.0                        1\n",
       "20.0                        1\n",
       "30.0                        1\n",
       "25.0                        1\n",
       "17.0                        1\n",
       "24.0                        1\n",
       "68.0                        1\n",
       "63.0                        1\n",
       "21.0                        1\n",
       "34.0                        1\n",
       "Name: amount of precipitation, dtype: int64"
      ]
     },
     "execution_count": 57,
     "metadata": {},
     "output_type": "execute_result"
    }
   ],
   "source": [
    "nyc_weather[\"amount of precipitation\"].value_counts()"
   ]
  },
  {
   "cell_type": "markdown",
   "metadata": {},
   "source": [
    "We need to analyse the number of missing values in each series of nyc_weather."
   ]
  },
  {
   "cell_type": "code",
   "execution_count": 58,
   "metadata": {},
   "outputs": [
    {
     "data": {
      "text/plain": [
       "date and time                 0\n",
       "temperature                   0\n",
       "humidity                      0\n",
       "wind speed                    0\n",
       "cloud cover                   4\n",
       "amount of precipitation    2240\n",
       "dtype: int64"
      ]
     },
     "execution_count": 58,
     "metadata": {},
     "output_type": "execute_result"
    }
   ],
   "source": [
    "nyc_weather.isna().sum()"
   ]
  },
  {
   "cell_type": "markdown",
   "metadata": {},
   "source": [
    "We are going to assign a value of \"0.1\" to \"Trace of precipitation\", and interpolate to fill the missing values."
   ]
  },
  {
   "cell_type": "code",
   "execution_count": 59,
   "metadata": {},
   "outputs": [],
   "source": [
    "# Assigns 0.1 to \"Trace of precipitation\"\n",
    "nyc_weather[\"amount of precipitation\"] = nyc_weather[\"amount of precipitation\"].replace(\"Trace of precipitation\", 0.1)\n",
    "\n",
    "# Converts amount of precipitation objects to floats\n",
    "nyc_weather[\"amount of precipitation\"] = nyc_weather[\"amount of precipitation\"].astype(float)\n",
    "\n",
    "# Interpolation to fill missing values\n",
    "nyc_weather[\"amount of precipitation\"].interpolate(inplace = True)"
   ]
  },
  {
   "cell_type": "markdown",
   "metadata": {},
   "source": [
    "We assign numerical values to each percentage value or range for cloud cover, and associate \"Sky obscured by fog and/or other meteorological phenomena\" with $100\\%$ cloud cover. We interpolate to fill the missing values."
   ]
  },
  {
   "cell_type": "code",
   "execution_count": 60,
   "metadata": {},
   "outputs": [],
   "source": [
    "# Assigns numerical values to cloud cover percentages\n",
    "nyc_weather[\"cloud cover\"] = nyc_weather[\"cloud cover\"].replace(\"70 – 80%.\", 0.7)\n",
    "nyc_weather[\"cloud cover\"] = nyc_weather[\"cloud cover\"].replace(\"100%.\", 1)\n",
    "nyc_weather[\"cloud cover\"] = nyc_weather[\"cloud cover\"].replace(\"20–30%.\", 0.3)\n",
    "nyc_weather[\"cloud cover\"] = nyc_weather[\"cloud cover\"].replace(\"50%.\", 0.5)\n",
    "nyc_weather[\"cloud cover\"] = nyc_weather[\"cloud cover\"].replace(\"no clouds\", 0)\n",
    "nyc_weather[\"cloud cover\"] = nyc_weather[\"cloud cover\"].replace(\"70 - 80%.\", 0.7)\n",
    "nyc_weather[\"cloud cover\"] = nyc_weather[\"cloud cover\"].replace(\"Sky obscured by fog and/or other meteorological phenomena.\", 1)\n",
    "\n",
    "# Converts cloud cover objects to floats\n",
    "nyc_weather[\"cloud cover\"] = nyc_weather[\"cloud cover\"].astype(float)\n",
    "\n",
    "# Interpolation to fill missing values\n",
    "nyc_weather[\"cloud cover\"].interpolate(inplace = True)"
   ]
  },
  {
   "cell_type": "markdown",
   "metadata": {},
   "source": [
    "We also need to change the date and time objects to pandas datetime objects, and generate additional \"month\", \"day\" and \"hour\" series."
   ]
  },
  {
   "cell_type": "code",
   "execution_count": 61,
   "metadata": {},
   "outputs": [
    {
     "data": {
      "text/plain": [
       "date and time               object\n",
       "temperature                float64\n",
       "humidity                     int64\n",
       "wind speed                   int64\n",
       "cloud cover                float64\n",
       "amount of precipitation    float64\n",
       "dtype: object"
      ]
     },
     "execution_count": 61,
     "metadata": {},
     "output_type": "execute_result"
    }
   ],
   "source": [
    "nyc_weather.dtypes"
   ]
  },
  {
   "cell_type": "code",
   "execution_count": 62,
   "metadata": {},
   "outputs": [],
   "source": [
    "nyc_weather.loc[:, \"date and time\"] = pd.to_datetime(nyc_weather.loc[:, \"date and time\"])\n",
    "nyc_weather[\"hour\"] = nyc_weather[\"date and time\"].dt.hour\n",
    "nyc_weather[\"month\"] = nyc_weather[\"date and time\"].dt.month\n",
    "nyc_weather[\"day\"] = nyc_weather[\"date and time\"].dt.day"
   ]
  },
  {
   "cell_type": "code",
   "execution_count": 63,
   "metadata": {},
   "outputs": [
    {
     "data": {
      "text/html": [
       "<div>\n",
       "<style scoped>\n",
       "    .dataframe tbody tr th:only-of-type {\n",
       "        vertical-align: middle;\n",
       "    }\n",
       "\n",
       "    .dataframe tbody tr th {\n",
       "        vertical-align: top;\n",
       "    }\n",
       "\n",
       "    .dataframe thead th {\n",
       "        text-align: right;\n",
       "    }\n",
       "</style>\n",
       "<table border=\"1\" class=\"dataframe\">\n",
       "  <thead>\n",
       "    <tr style=\"text-align: right;\">\n",
       "      <th></th>\n",
       "      <th>date and time</th>\n",
       "      <th>temperature</th>\n",
       "      <th>humidity</th>\n",
       "      <th>wind speed</th>\n",
       "      <th>cloud cover</th>\n",
       "      <th>amount of precipitation</th>\n",
       "      <th>hour</th>\n",
       "      <th>month</th>\n",
       "      <th>day</th>\n",
       "    </tr>\n",
       "  </thead>\n",
       "  <tbody>\n",
       "    <tr>\n",
       "      <th>0</th>\n",
       "      <td>2019-12-31 22:00:00</td>\n",
       "      <td>6.1</td>\n",
       "      <td>65</td>\n",
       "      <td>6</td>\n",
       "      <td>1.0</td>\n",
       "      <td>0.300000</td>\n",
       "      <td>22</td>\n",
       "      <td>12</td>\n",
       "      <td>31</td>\n",
       "    </tr>\n",
       "    <tr>\n",
       "      <th>1</th>\n",
       "      <td>2019-12-31 19:00:00</td>\n",
       "      <td>6.7</td>\n",
       "      <td>71</td>\n",
       "      <td>5</td>\n",
       "      <td>0.7</td>\n",
       "      <td>0.233333</td>\n",
       "      <td>19</td>\n",
       "      <td>12</td>\n",
       "      <td>31</td>\n",
       "    </tr>\n",
       "    <tr>\n",
       "      <th>2</th>\n",
       "      <td>2019-12-31 16:00:00</td>\n",
       "      <td>7.2</td>\n",
       "      <td>66</td>\n",
       "      <td>5</td>\n",
       "      <td>0.5</td>\n",
       "      <td>0.166667</td>\n",
       "      <td>16</td>\n",
       "      <td>12</td>\n",
       "      <td>31</td>\n",
       "    </tr>\n",
       "    <tr>\n",
       "      <th>3</th>\n",
       "      <td>2019-12-31 13:00:00</td>\n",
       "      <td>6.1</td>\n",
       "      <td>76</td>\n",
       "      <td>3</td>\n",
       "      <td>1.0</td>\n",
       "      <td>0.100000</td>\n",
       "      <td>13</td>\n",
       "      <td>12</td>\n",
       "      <td>31</td>\n",
       "    </tr>\n",
       "    <tr>\n",
       "      <th>4</th>\n",
       "      <td>2019-12-31 10:00:00</td>\n",
       "      <td>4.4</td>\n",
       "      <td>83</td>\n",
       "      <td>2</td>\n",
       "      <td>1.0</td>\n",
       "      <td>0.100000</td>\n",
       "      <td>10</td>\n",
       "      <td>12</td>\n",
       "      <td>31</td>\n",
       "    </tr>\n",
       "  </tbody>\n",
       "</table>\n",
       "</div>"
      ],
      "text/plain": [
       "        date and time  temperature  humidity  wind speed  cloud cover  \\\n",
       "0 2019-12-31 22:00:00          6.1        65           6          1.0   \n",
       "1 2019-12-31 19:00:00          6.7        71           5          0.7   \n",
       "2 2019-12-31 16:00:00          7.2        66           5          0.5   \n",
       "3 2019-12-31 13:00:00          6.1        76           3          1.0   \n",
       "4 2019-12-31 10:00:00          4.4        83           2          1.0   \n",
       "\n",
       "   amount of precipitation  hour  month  day  \n",
       "0                 0.300000    22     12   31  \n",
       "1                 0.233333    19     12   31  \n",
       "2                 0.166667    16     12   31  \n",
       "3                 0.100000    13     12   31  \n",
       "4                 0.100000    10     12   31  "
      ]
     },
     "execution_count": 63,
     "metadata": {},
     "output_type": "execute_result"
    }
   ],
   "source": [
    "nyc_weather.head()"
   ]
  },
  {
   "cell_type": "markdown",
   "metadata": {},
   "source": [
    "Now, we merge the original data set with nyc_weather."
   ]
  },
  {
   "cell_type": "code",
   "execution_count": 64,
   "metadata": {
    "scrolled": true
   },
   "outputs": [
    {
     "name": "stdout",
     "output_type": "stream",
     "text": [
      "(102556, 22)\n"
     ]
    },
    {
     "data": {
      "text/html": [
       "<div>\n",
       "<style scoped>\n",
       "    .dataframe tbody tr th:only-of-type {\n",
       "        vertical-align: middle;\n",
       "    }\n",
       "\n",
       "    .dataframe tbody tr th {\n",
       "        vertical-align: top;\n",
       "    }\n",
       "\n",
       "    .dataframe thead th {\n",
       "        text-align: right;\n",
       "    }\n",
       "</style>\n",
       "<table border=\"1\" class=\"dataframe\">\n",
       "  <thead>\n",
       "    <tr style=\"text-align: right;\">\n",
       "      <th></th>\n",
       "      <th>PULocationID</th>\n",
       "      <th>transaction_date</th>\n",
       "      <th>transaction_month</th>\n",
       "      <th>transaction_day</th>\n",
       "      <th>transaction_hour</th>\n",
       "      <th>trip_distance</th>\n",
       "      <th>total_amount</th>\n",
       "      <th>count_of_transactions</th>\n",
       "      <th>transaction_week_day</th>\n",
       "      <th>weekend</th>\n",
       "      <th>...</th>\n",
       "      <th>Borough</th>\n",
       "      <th>date and time</th>\n",
       "      <th>temperature</th>\n",
       "      <th>humidity</th>\n",
       "      <th>wind speed</th>\n",
       "      <th>cloud cover</th>\n",
       "      <th>amount of precipitation</th>\n",
       "      <th>hour</th>\n",
       "      <th>month</th>\n",
       "      <th>day</th>\n",
       "    </tr>\n",
       "  </thead>\n",
       "  <tbody>\n",
       "    <tr>\n",
       "      <th>0</th>\n",
       "      <td>1</td>\n",
       "      <td>2019-01-01</td>\n",
       "      <td>1</td>\n",
       "      <td>1</td>\n",
       "      <td>2</td>\n",
       "      <td>0.0</td>\n",
       "      <td>21.800</td>\n",
       "      <td>1</td>\n",
       "      <td>1</td>\n",
       "      <td>False</td>\n",
       "      <td>...</td>\n",
       "      <td>EWR</td>\n",
       "      <td>NaT</td>\n",
       "      <td>NaN</td>\n",
       "      <td>NaN</td>\n",
       "      <td>NaN</td>\n",
       "      <td>NaN</td>\n",
       "      <td>NaN</td>\n",
       "      <td>NaN</td>\n",
       "      <td>NaN</td>\n",
       "      <td>NaN</td>\n",
       "    </tr>\n",
       "    <tr>\n",
       "      <th>1</th>\n",
       "      <td>1</td>\n",
       "      <td>2019-01-01</td>\n",
       "      <td>1</td>\n",
       "      <td>1</td>\n",
       "      <td>5</td>\n",
       "      <td>0.0</td>\n",
       "      <td>87.300</td>\n",
       "      <td>1</td>\n",
       "      <td>1</td>\n",
       "      <td>False</td>\n",
       "      <td>...</td>\n",
       "      <td>EWR</td>\n",
       "      <td>NaT</td>\n",
       "      <td>NaN</td>\n",
       "      <td>NaN</td>\n",
       "      <td>NaN</td>\n",
       "      <td>NaN</td>\n",
       "      <td>NaN</td>\n",
       "      <td>NaN</td>\n",
       "      <td>NaN</td>\n",
       "      <td>NaN</td>\n",
       "    </tr>\n",
       "    <tr>\n",
       "      <th>2</th>\n",
       "      <td>1</td>\n",
       "      <td>2019-01-01</td>\n",
       "      <td>1</td>\n",
       "      <td>1</td>\n",
       "      <td>6</td>\n",
       "      <td>0.0</td>\n",
       "      <td>80.300</td>\n",
       "      <td>1</td>\n",
       "      <td>1</td>\n",
       "      <td>False</td>\n",
       "      <td>...</td>\n",
       "      <td>EWR</td>\n",
       "      <td>NaT</td>\n",
       "      <td>NaN</td>\n",
       "      <td>NaN</td>\n",
       "      <td>NaN</td>\n",
       "      <td>NaN</td>\n",
       "      <td>NaN</td>\n",
       "      <td>NaN</td>\n",
       "      <td>NaN</td>\n",
       "      <td>NaN</td>\n",
       "    </tr>\n",
       "    <tr>\n",
       "      <th>3</th>\n",
       "      <td>1</td>\n",
       "      <td>2019-01-01</td>\n",
       "      <td>1</td>\n",
       "      <td>1</td>\n",
       "      <td>8</td>\n",
       "      <td>0.0</td>\n",
       "      <td>128.580</td>\n",
       "      <td>2</td>\n",
       "      <td>1</td>\n",
       "      <td>False</td>\n",
       "      <td>...</td>\n",
       "      <td>EWR</td>\n",
       "      <td>NaT</td>\n",
       "      <td>NaN</td>\n",
       "      <td>NaN</td>\n",
       "      <td>NaN</td>\n",
       "      <td>NaN</td>\n",
       "      <td>NaN</td>\n",
       "      <td>NaN</td>\n",
       "      <td>NaN</td>\n",
       "      <td>NaN</td>\n",
       "    </tr>\n",
       "    <tr>\n",
       "      <th>4</th>\n",
       "      <td>1</td>\n",
       "      <td>2019-01-01</td>\n",
       "      <td>1</td>\n",
       "      <td>1</td>\n",
       "      <td>10</td>\n",
       "      <td>16.9</td>\n",
       "      <td>43.245</td>\n",
       "      <td>4</td>\n",
       "      <td>1</td>\n",
       "      <td>False</td>\n",
       "      <td>...</td>\n",
       "      <td>EWR</td>\n",
       "      <td>2019-01-01 10:00:00</td>\n",
       "      <td>15.6</td>\n",
       "      <td>62.0</td>\n",
       "      <td>11.0</td>\n",
       "      <td>0.7</td>\n",
       "      <td>0.473333</td>\n",
       "      <td>10.0</td>\n",
       "      <td>1.0</td>\n",
       "      <td>1.0</td>\n",
       "    </tr>\n",
       "  </tbody>\n",
       "</table>\n",
       "<p>5 rows × 22 columns</p>\n",
       "</div>"
      ],
      "text/plain": [
       "  PULocationID transaction_date  transaction_month  transaction_day  \\\n",
       "0            1       2019-01-01                  1                1   \n",
       "1            1       2019-01-01                  1                1   \n",
       "2            1       2019-01-01                  1                1   \n",
       "3            1       2019-01-01                  1                1   \n",
       "4            1       2019-01-01                  1                1   \n",
       "\n",
       "   transaction_hour  trip_distance  total_amount  count_of_transactions  \\\n",
       "0                 2            0.0        21.800                      1   \n",
       "1                 5            0.0        87.300                      1   \n",
       "2                 6            0.0        80.300                      1   \n",
       "3                 8            0.0       128.580                      2   \n",
       "4                10           16.9        43.245                      4   \n",
       "\n",
       "   transaction_week_day  weekend  ...  Borough       date and time  \\\n",
       "0                     1    False  ...      EWR                 NaT   \n",
       "1                     1    False  ...      EWR                 NaT   \n",
       "2                     1    False  ...      EWR                 NaT   \n",
       "3                     1    False  ...      EWR                 NaT   \n",
       "4                     1    False  ...      EWR 2019-01-01 10:00:00   \n",
       "\n",
       "  temperature humidity  wind speed  cloud cover  amount of precipitation  \\\n",
       "0         NaN      NaN         NaN          NaN                      NaN   \n",
       "1         NaN      NaN         NaN          NaN                      NaN   \n",
       "2         NaN      NaN         NaN          NaN                      NaN   \n",
       "3         NaN      NaN         NaN          NaN                      NaN   \n",
       "4        15.6     62.0        11.0          0.7                 0.473333   \n",
       "\n",
       "   hour  month  day  \n",
       "0   NaN    NaN  NaN  \n",
       "1   NaN    NaN  NaN  \n",
       "2   NaN    NaN  NaN  \n",
       "3   NaN    NaN  NaN  \n",
       "4  10.0    1.0  1.0  \n",
       "\n",
       "[5 rows x 22 columns]"
      ]
     },
     "execution_count": 64,
     "metadata": {},
     "output_type": "execute_result"
    }
   ],
   "source": [
    "nyc_taxi_with_weather = data_with_new_features.merge(nyc_weather, left_on = ['transaction_month','transaction_day','transaction_hour'], right_on = ['month','day','hour'], how='left')\n",
    "\n",
    "print(nyc_taxi_with_weather.shape)\n",
    "nyc_taxi_with_weather.head()"
   ]
  },
  {
   "cell_type": "code",
   "execution_count": 65,
   "metadata": {},
   "outputs": [
    {
     "data": {
      "text/html": [
       "<div>\n",
       "<style scoped>\n",
       "    .dataframe tbody tr th:only-of-type {\n",
       "        vertical-align: middle;\n",
       "    }\n",
       "\n",
       "    .dataframe tbody tr th {\n",
       "        vertical-align: top;\n",
       "    }\n",
       "\n",
       "    .dataframe thead th {\n",
       "        text-align: right;\n",
       "    }\n",
       "</style>\n",
       "<table border=\"1\" class=\"dataframe\">\n",
       "  <thead>\n",
       "    <tr style=\"text-align: right;\">\n",
       "      <th></th>\n",
       "      <th>PULocationID</th>\n",
       "      <th>transaction_date</th>\n",
       "      <th>transaction_month</th>\n",
       "      <th>transaction_day</th>\n",
       "      <th>transaction_hour</th>\n",
       "      <th>trip_distance</th>\n",
       "      <th>total_amount</th>\n",
       "      <th>count_of_transactions</th>\n",
       "      <th>transaction_week_day</th>\n",
       "      <th>weekend</th>\n",
       "      <th>is_holiday</th>\n",
       "      <th>LocationID</th>\n",
       "      <th>Borough</th>\n",
       "      <th>temperature</th>\n",
       "      <th>humidity</th>\n",
       "      <th>wind speed</th>\n",
       "      <th>cloud cover</th>\n",
       "      <th>amount of precipitation</th>\n",
       "    </tr>\n",
       "  </thead>\n",
       "  <tbody>\n",
       "    <tr>\n",
       "      <th>0</th>\n",
       "      <td>1</td>\n",
       "      <td>2019-01-01</td>\n",
       "      <td>1</td>\n",
       "      <td>1</td>\n",
       "      <td>2</td>\n",
       "      <td>0.0</td>\n",
       "      <td>21.800</td>\n",
       "      <td>1</td>\n",
       "      <td>1</td>\n",
       "      <td>False</td>\n",
       "      <td>True</td>\n",
       "      <td>1</td>\n",
       "      <td>EWR</td>\n",
       "      <td>NaN</td>\n",
       "      <td>NaN</td>\n",
       "      <td>NaN</td>\n",
       "      <td>NaN</td>\n",
       "      <td>NaN</td>\n",
       "    </tr>\n",
       "    <tr>\n",
       "      <th>1</th>\n",
       "      <td>1</td>\n",
       "      <td>2019-01-01</td>\n",
       "      <td>1</td>\n",
       "      <td>1</td>\n",
       "      <td>5</td>\n",
       "      <td>0.0</td>\n",
       "      <td>87.300</td>\n",
       "      <td>1</td>\n",
       "      <td>1</td>\n",
       "      <td>False</td>\n",
       "      <td>True</td>\n",
       "      <td>1</td>\n",
       "      <td>EWR</td>\n",
       "      <td>NaN</td>\n",
       "      <td>NaN</td>\n",
       "      <td>NaN</td>\n",
       "      <td>NaN</td>\n",
       "      <td>NaN</td>\n",
       "    </tr>\n",
       "    <tr>\n",
       "      <th>2</th>\n",
       "      <td>1</td>\n",
       "      <td>2019-01-01</td>\n",
       "      <td>1</td>\n",
       "      <td>1</td>\n",
       "      <td>6</td>\n",
       "      <td>0.0</td>\n",
       "      <td>80.300</td>\n",
       "      <td>1</td>\n",
       "      <td>1</td>\n",
       "      <td>False</td>\n",
       "      <td>True</td>\n",
       "      <td>1</td>\n",
       "      <td>EWR</td>\n",
       "      <td>NaN</td>\n",
       "      <td>NaN</td>\n",
       "      <td>NaN</td>\n",
       "      <td>NaN</td>\n",
       "      <td>NaN</td>\n",
       "    </tr>\n",
       "    <tr>\n",
       "      <th>3</th>\n",
       "      <td>1</td>\n",
       "      <td>2019-01-01</td>\n",
       "      <td>1</td>\n",
       "      <td>1</td>\n",
       "      <td>8</td>\n",
       "      <td>0.0</td>\n",
       "      <td>128.580</td>\n",
       "      <td>2</td>\n",
       "      <td>1</td>\n",
       "      <td>False</td>\n",
       "      <td>True</td>\n",
       "      <td>1</td>\n",
       "      <td>EWR</td>\n",
       "      <td>NaN</td>\n",
       "      <td>NaN</td>\n",
       "      <td>NaN</td>\n",
       "      <td>NaN</td>\n",
       "      <td>NaN</td>\n",
       "    </tr>\n",
       "    <tr>\n",
       "      <th>4</th>\n",
       "      <td>1</td>\n",
       "      <td>2019-01-01</td>\n",
       "      <td>1</td>\n",
       "      <td>1</td>\n",
       "      <td>10</td>\n",
       "      <td>16.9</td>\n",
       "      <td>43.245</td>\n",
       "      <td>4</td>\n",
       "      <td>1</td>\n",
       "      <td>False</td>\n",
       "      <td>True</td>\n",
       "      <td>1</td>\n",
       "      <td>EWR</td>\n",
       "      <td>15.6</td>\n",
       "      <td>62.0</td>\n",
       "      <td>11.0</td>\n",
       "      <td>0.7</td>\n",
       "      <td>0.473333</td>\n",
       "    </tr>\n",
       "  </tbody>\n",
       "</table>\n",
       "</div>"
      ],
      "text/plain": [
       "  PULocationID transaction_date  transaction_month  transaction_day  \\\n",
       "0            1       2019-01-01                  1                1   \n",
       "1            1       2019-01-01                  1                1   \n",
       "2            1       2019-01-01                  1                1   \n",
       "3            1       2019-01-01                  1                1   \n",
       "4            1       2019-01-01                  1                1   \n",
       "\n",
       "   transaction_hour  trip_distance  total_amount  count_of_transactions  \\\n",
       "0                 2            0.0        21.800                      1   \n",
       "1                 5            0.0        87.300                      1   \n",
       "2                 6            0.0        80.300                      1   \n",
       "3                 8            0.0       128.580                      2   \n",
       "4                10           16.9        43.245                      4   \n",
       "\n",
       "   transaction_week_day  weekend  is_holiday LocationID Borough  temperature  \\\n",
       "0                     1    False        True          1     EWR          NaN   \n",
       "1                     1    False        True          1     EWR          NaN   \n",
       "2                     1    False        True          1     EWR          NaN   \n",
       "3                     1    False        True          1     EWR          NaN   \n",
       "4                     1    False        True          1     EWR         15.6   \n",
       "\n",
       "   humidity  wind speed  cloud cover  amount of precipitation  \n",
       "0       NaN         NaN          NaN                      NaN  \n",
       "1       NaN         NaN          NaN                      NaN  \n",
       "2       NaN         NaN          NaN                      NaN  \n",
       "3       NaN         NaN          NaN                      NaN  \n",
       "4      62.0        11.0          0.7                 0.473333  "
      ]
     },
     "execution_count": 65,
     "metadata": {},
     "output_type": "execute_result"
    }
   ],
   "source": [
    "# Removes unecessary series\n",
    "nyc_taxi_with_weather = nyc_taxi_with_weather.drop(['date and time','hour','month','day'], axis=1)\n",
    "nyc_taxi_with_weather.head()"
   ]
  },
  {
   "cell_type": "markdown",
   "metadata": {},
   "source": [
    "Since the nyc_weather data set is constructed in three-hourly periods, and the original data set is in hourly periods, the combined data set contains missing values in the weather features series."
   ]
  },
  {
   "cell_type": "code",
   "execution_count": 66,
   "metadata": {
    "scrolled": false
   },
   "outputs": [
    {
     "data": {
      "text/plain": [
       "PULocationID                   0\n",
       "transaction_date               0\n",
       "transaction_month              0\n",
       "transaction_day                0\n",
       "transaction_hour               0\n",
       "trip_distance                  0\n",
       "total_amount                   0\n",
       "count_of_transactions          0\n",
       "transaction_week_day           0\n",
       "weekend                        0\n",
       "is_holiday                     0\n",
       "LocationID                     0\n",
       "Borough                        0\n",
       "temperature                68371\n",
       "humidity                   68371\n",
       "wind speed                 68371\n",
       "cloud cover                68371\n",
       "amount of precipitation    68371\n",
       "dtype: int64"
      ]
     },
     "execution_count": 66,
     "metadata": {},
     "output_type": "execute_result"
    }
   ],
   "source": [
    "nyc_taxi_with_weather.isna().sum()"
   ]
  },
  {
   "cell_type": "markdown",
   "metadata": {},
   "source": [
    "To rectify this, we put the transaction date and hour in chronological order, and then interpolate to fill the missing weather-related values."
   ]
  },
  {
   "cell_type": "code",
   "execution_count": 67,
   "metadata": {},
   "outputs": [],
   "source": [
    "# Puts transaction_date and transaction_hour values in chronological order\n",
    "nyc_taxi_with_weather = nyc_taxi_with_weather.sort_values(['transaction_date','transaction_hour']).reset_index().drop('index',axis=1)"
   ]
  },
  {
   "cell_type": "code",
   "execution_count": 74,
   "metadata": {},
   "outputs": [
    {
     "data": {
      "text/plain": [
       "PULocationID               0\n",
       "transaction_date           0\n",
       "transaction_month          0\n",
       "transaction_day            0\n",
       "transaction_hour           0\n",
       "trip_distance              0\n",
       "total_amount               0\n",
       "count_of_transactions      0\n",
       "transaction_week_day       0\n",
       "weekend                    0\n",
       "is_holiday                 0\n",
       "LocationID                 0\n",
       "Borough                    0\n",
       "temperature                0\n",
       "humidity                   0\n",
       "wind speed                 0\n",
       "cloud cover                0\n",
       "amount of precipitation    0\n",
       "dtype: int64"
      ]
     },
     "execution_count": 74,
     "metadata": {},
     "output_type": "execute_result"
    }
   ],
   "source": [
    "nyc_taxi_with_weather = nyc_taxi_with_weather.interpolate()\n",
    "nyc_taxi_with_weather = nyc_taxi_with_weather.fillna(method='bfill')\n",
    "\n",
    "# No remaining missing values\n",
    "nyc_taxi_with_weather.isna().sum()"
   ]
  },
  {
   "cell_type": "code",
   "execution_count": 75,
   "metadata": {},
   "outputs": [
    {
     "data": {
      "text/html": [
       "<div>\n",
       "<style scoped>\n",
       "    .dataframe tbody tr th:only-of-type {\n",
       "        vertical-align: middle;\n",
       "    }\n",
       "\n",
       "    .dataframe tbody tr th {\n",
       "        vertical-align: top;\n",
       "    }\n",
       "\n",
       "    .dataframe thead th {\n",
       "        text-align: right;\n",
       "    }\n",
       "</style>\n",
       "<table border=\"1\" class=\"dataframe\">\n",
       "  <thead>\n",
       "    <tr style=\"text-align: right;\">\n",
       "      <th></th>\n",
       "      <th>PULocationID</th>\n",
       "      <th>transaction_date</th>\n",
       "      <th>transaction_month</th>\n",
       "      <th>transaction_day</th>\n",
       "      <th>transaction_hour</th>\n",
       "      <th>trip_distance</th>\n",
       "      <th>total_amount</th>\n",
       "      <th>count_of_transactions</th>\n",
       "      <th>transaction_week_day</th>\n",
       "      <th>weekend</th>\n",
       "      <th>is_holiday</th>\n",
       "      <th>LocationID</th>\n",
       "      <th>Borough</th>\n",
       "      <th>temperature</th>\n",
       "      <th>humidity</th>\n",
       "      <th>wind speed</th>\n",
       "      <th>cloud cover</th>\n",
       "      <th>amount of precipitation</th>\n",
       "    </tr>\n",
       "  </thead>\n",
       "  <tbody>\n",
       "    <tr>\n",
       "      <th>102551</th>\n",
       "      <td>88</td>\n",
       "      <td>2019-01-31</td>\n",
       "      <td>1</td>\n",
       "      <td>31</td>\n",
       "      <td>23</td>\n",
       "      <td>5.196607</td>\n",
       "      <td>27.126607</td>\n",
       "      <td>56</td>\n",
       "      <td>3</td>\n",
       "      <td>False</td>\n",
       "      <td>False</td>\n",
       "      <td>88</td>\n",
       "      <td>Manhattan</td>\n",
       "      <td>-9.4</td>\n",
       "      <td>32.0</td>\n",
       "      <td>7.0</td>\n",
       "      <td>0.3</td>\n",
       "      <td>0.164286</td>\n",
       "    </tr>\n",
       "    <tr>\n",
       "      <th>102552</th>\n",
       "      <td>89</td>\n",
       "      <td>2019-01-31</td>\n",
       "      <td>1</td>\n",
       "      <td>31</td>\n",
       "      <td>23</td>\n",
       "      <td>1.750000</td>\n",
       "      <td>9.050000</td>\n",
       "      <td>2</td>\n",
       "      <td>3</td>\n",
       "      <td>False</td>\n",
       "      <td>False</td>\n",
       "      <td>89</td>\n",
       "      <td>Brooklyn</td>\n",
       "      <td>-9.4</td>\n",
       "      <td>32.0</td>\n",
       "      <td>7.0</td>\n",
       "      <td>0.3</td>\n",
       "      <td>0.164286</td>\n",
       "    </tr>\n",
       "    <tr>\n",
       "      <th>102553</th>\n",
       "      <td>90</td>\n",
       "      <td>2019-01-31</td>\n",
       "      <td>1</td>\n",
       "      <td>31</td>\n",
       "      <td>23</td>\n",
       "      <td>2.967793</td>\n",
       "      <td>16.049718</td>\n",
       "      <td>213</td>\n",
       "      <td>3</td>\n",
       "      <td>False</td>\n",
       "      <td>False</td>\n",
       "      <td>90</td>\n",
       "      <td>Manhattan</td>\n",
       "      <td>-9.4</td>\n",
       "      <td>32.0</td>\n",
       "      <td>7.0</td>\n",
       "      <td>0.3</td>\n",
       "      <td>0.164286</td>\n",
       "    </tr>\n",
       "    <tr>\n",
       "      <th>102554</th>\n",
       "      <td>94</td>\n",
       "      <td>2019-01-31</td>\n",
       "      <td>1</td>\n",
       "      <td>31</td>\n",
       "      <td>23</td>\n",
       "      <td>0.590000</td>\n",
       "      <td>5.800000</td>\n",
       "      <td>1</td>\n",
       "      <td>3</td>\n",
       "      <td>False</td>\n",
       "      <td>False</td>\n",
       "      <td>94</td>\n",
       "      <td>Bronx</td>\n",
       "      <td>-9.4</td>\n",
       "      <td>32.0</td>\n",
       "      <td>7.0</td>\n",
       "      <td>0.3</td>\n",
       "      <td>0.164286</td>\n",
       "    </tr>\n",
       "    <tr>\n",
       "      <th>102555</th>\n",
       "      <td>97</td>\n",
       "      <td>2019-01-31</td>\n",
       "      <td>1</td>\n",
       "      <td>31</td>\n",
       "      <td>23</td>\n",
       "      <td>3.215263</td>\n",
       "      <td>15.602105</td>\n",
       "      <td>19</td>\n",
       "      <td>3</td>\n",
       "      <td>False</td>\n",
       "      <td>False</td>\n",
       "      <td>97</td>\n",
       "      <td>Brooklyn</td>\n",
       "      <td>-9.4</td>\n",
       "      <td>32.0</td>\n",
       "      <td>7.0</td>\n",
       "      <td>0.3</td>\n",
       "      <td>0.164286</td>\n",
       "    </tr>\n",
       "  </tbody>\n",
       "</table>\n",
       "</div>"
      ],
      "text/plain": [
       "       PULocationID transaction_date  transaction_month  transaction_day  \\\n",
       "102551           88       2019-01-31                  1               31   \n",
       "102552           89       2019-01-31                  1               31   \n",
       "102553           90       2019-01-31                  1               31   \n",
       "102554           94       2019-01-31                  1               31   \n",
       "102555           97       2019-01-31                  1               31   \n",
       "\n",
       "        transaction_hour  trip_distance  total_amount  count_of_transactions  \\\n",
       "102551                23       5.196607     27.126607                     56   \n",
       "102552                23       1.750000      9.050000                      2   \n",
       "102553                23       2.967793     16.049718                    213   \n",
       "102554                23       0.590000      5.800000                      1   \n",
       "102555                23       3.215263     15.602105                     19   \n",
       "\n",
       "        transaction_week_day  weekend  is_holiday LocationID    Borough  \\\n",
       "102551                     3    False       False         88  Manhattan   \n",
       "102552                     3    False       False         89   Brooklyn   \n",
       "102553                     3    False       False         90  Manhattan   \n",
       "102554                     3    False       False         94      Bronx   \n",
       "102555                     3    False       False         97   Brooklyn   \n",
       "\n",
       "        temperature  humidity  wind speed  cloud cover  \\\n",
       "102551         -9.4      32.0         7.0          0.3   \n",
       "102552         -9.4      32.0         7.0          0.3   \n",
       "102553         -9.4      32.0         7.0          0.3   \n",
       "102554         -9.4      32.0         7.0          0.3   \n",
       "102555         -9.4      32.0         7.0          0.3   \n",
       "\n",
       "        amount of precipitation  \n",
       "102551                 0.164286  \n",
       "102552                 0.164286  \n",
       "102553                 0.164286  \n",
       "102554                 0.164286  \n",
       "102555                 0.164286  "
      ]
     },
     "execution_count": 75,
     "metadata": {},
     "output_type": "execute_result"
    }
   ],
   "source": [
    "nyc_taxi_with_weather.tail()"
   ]
  },
  {
   "cell_type": "markdown",
   "metadata": {},
   "source": [
    "# 7. Model training <a id='model_training'></a>\n",
    "[Back to top](#table_of_contents)\n",
    "\n",
    "We now train the model based on our refined data set."
   ]
  },
  {
   "cell_type": "code",
   "execution_count": 76,
   "metadata": {},
   "outputs": [],
   "source": [
    "# Checkpoint for data set\n",
    "data_for_model = nyc_taxi_with_weather.copy()"
   ]
  },
  {
   "cell_type": "markdown",
   "metadata": {},
   "source": [
    "As before, we define the categorical and numerical variables, as well as the input and output variables."
   ]
  },
  {
   "cell_type": "code",
   "execution_count": 77,
   "metadata": {},
   "outputs": [],
   "source": [
    "categorical_features = [\"PULocationID\", \"transaction_month\", \"transaction_day\", \"transaction_hour\", \n",
    "                        \"transaction_week_day\", \"weekend\",\"is_holiday\", \"Borough\"]\n",
    "numerical_features = [\"temperature\", \"humidity\", \"wind speed\",\"cloud cover\",\"amount of precipitation\"]\n",
    "input_features = categorical_features + numerical_features\n",
    "output_feature = \"total_amount\""
   ]
  },
  {
   "cell_type": "markdown",
   "metadata": {},
   "source": [
    "## 7.1 Train-test split\n",
    "\n",
    "We apply the same train-test split as previously."
   ]
  },
  {
   "cell_type": "code",
   "execution_count": 78,
   "metadata": {},
   "outputs": [],
   "source": [
    "from sklearn.model_selection import train_test_split\n",
    "\n",
    "X = data_for_model[input_features]\n",
    "y = data_for_model[output_feature]\n",
    "\n",
    "X = pd.get_dummies(X)\n",
    "\n",
    "X_train, X_test, y_train, y_test = train_test_split(X, y, test_size=0.33, random_state=42)"
   ]
  },
  {
   "cell_type": "markdown",
   "metadata": {},
   "source": [
    "## 7.1. Decision tree <a id='decision_tree'></a>"
   ]
  },
  {
   "cell_type": "markdown",
   "metadata": {},
   "source": [
    "We implement a decision tree regressor model as before. The reason we select a maximum depth of 10 for our tree will be elucidated later."
   ]
  },
  {
   "cell_type": "code",
   "execution_count": 79,
   "metadata": {},
   "outputs": [
    {
     "data": {
      "text/plain": [
       "DecisionTreeRegressor(ccp_alpha=0.0, criterion='mse', max_depth=10,\n",
       "                      max_features=None, max_leaf_nodes=None,\n",
       "                      min_impurity_decrease=0.0, min_impurity_split=None,\n",
       "                      min_samples_leaf=1, min_samples_split=2,\n",
       "                      min_weight_fraction_leaf=0.0, presort='deprecated',\n",
       "                      random_state=None, splitter='best')"
      ]
     },
     "execution_count": 79,
     "metadata": {},
     "output_type": "execute_result"
    }
   ],
   "source": [
    "from sklearn.tree import DecisionTreeRegressor \n",
    "\n",
    "decision_tree = DecisionTreeRegressor(max_depth=10)\n",
    "decision_tree.fit(X_train, y_train)"
   ]
  },
  {
   "cell_type": "code",
   "execution_count": 80,
   "metadata": {},
   "outputs": [
    {
     "name": "stdout",
     "output_type": "stream",
     "text": [
      "mean_absolute_error 8.533829851897737\n",
      "mean_squared_error 196.35437710343737\n",
      "root_mean_squared_error 14.012650609482753\n",
      "r2 0.3078385387070308\n"
     ]
    }
   ],
   "source": [
    "model_at_hand = decision_tree\n",
    "\n",
    "y_pred = model_at_hand.predict(X_test)\n",
    "\n",
    "from sklearn.metrics import mean_absolute_error\n",
    "from sklearn.metrics import mean_squared_error\n",
    "from sklearn.metrics import r2_score\n",
    "from math import sqrt\n",
    "\n",
    "print('mean_absolute_error', mean_absolute_error(y_test, y_pred))\n",
    "print('mean_squared_error', mean_squared_error(y_test, y_pred))\n",
    "print('root_mean_squared_error', sqrt(mean_squared_error(y_test, y_pred)))\n",
    "print('r2', r2_score(y_test, y_pred))"
   ]
  },
  {
   "cell_type": "markdown",
   "metadata": {},
   "source": [
    "We observe that the regression metrics are certainly improved from their counterparts for the benchmark model. Thus, our feature engineering has had some positive impact on the model performance."
   ]
  },
  {
   "cell_type": "code",
   "execution_count": 81,
   "metadata": {},
   "outputs": [
    {
     "data": {
      "text/plain": [
       "<matplotlib.axes._subplots.AxesSubplot at 0x1dba8006208>"
      ]
     },
     "execution_count": 81,
     "metadata": {},
     "output_type": "execute_result"
    },
    {
     "data": {
      "image/png": "[encoded data removed]",
      "text/plain": [
       "<Figure size 1440x720 with 1 Axes>"
      ]
     },
     "metadata": {
      "needs_background": "light"
     },
     "output_type": "display_data"
    }
   ],
   "source": [
    "data = {'true': y_test, 'pred': y_pred}\n",
    "results = pd.DataFrame(data)\n",
    "\n",
    "results.plot(figsize=(20,10), kind='scatter', x='true', y='pred')"
   ]
  },
  {
   "cell_type": "markdown",
   "metadata": {},
   "source": [
    "## 7.1.1 Overfitting"
   ]
  },
  {
   "cell_type": "markdown",
   "metadata": {},
   "source": [
    "Overfitting commonly occurs in decision trees when the depth of the tree is too high. In such cases, the decision tree model fits the training data too well, and is unable to suitably generalise to the testing data. Thus, we must carefully choose the depth of the decision tree to provide sufficiently levels of accuracy in fitting with the training and testing data.\n",
    "\n",
    "Let's analyze the dependence of the root mean squared error between the observed and predicted output values on the maximum tree depth. "
   ]
  },
  {
   "cell_type": "code",
   "execution_count": 82,
   "metadata": {},
   "outputs": [],
   "source": [
    "X_train_OF = X_train\n",
    "y_train_OF = y_train\n",
    "\n",
    "X_test_OF = X_test\n",
    "y_test_OF = y_test"
   ]
  },
  {
   "cell_type": "code",
   "execution_count": 87,
   "metadata": {},
   "outputs": [
    {
     "name": "stdout",
     "output_type": "stream",
     "text": [
      "2\n",
      "5\n",
      "8\n",
      "10\n",
      "15\n",
      "20\n",
      "30\n",
      "50\n",
      "70\n",
      "100\n",
      "150\n"
     ]
    }
   ],
   "source": [
    "# Blank data frame comparing \n",
    "rmse_scores = {'max_depth':[] ,'rmse_train':[], 'rmse_test':[]}\n",
    "\n",
    "for md in [2, 5, 8, 10, 15, 20, 30, 50, 70, 100, 150]:\n",
    "    print(md)\n",
    "    decision_tree_OF = DecisionTreeRegressor(max_depth=md)\n",
    "    decision_tree_OF.fit(X_train_OF, y_train_OF)\n",
    "    model_at_hand_OF = decision_tree_OF\n",
    "    y_pred_train = model_at_hand_OF.predict(X_train_OF)\n",
    "    rmse_train = sqrt(mean_squared_error(y_train_OF, y_pred_train))\n",
    "    y_pred_test = model_at_hand_OF.predict(X_test_OF)\n",
    "    rmse_test = sqrt(mean_squared_error(y_test_OF, y_pred_test))\n",
    "    rmse_scores[\"max_depth\"].append(md)\n",
    "    rmse_scores[\"rmse_train\"].append(rmse_train)\n",
    "    rmse_scores[\"rmse_test\"].append(rmse_test)"
   ]
  },
  {
   "cell_type": "code",
   "execution_count": 89,
   "metadata": {},
   "outputs": [
    {
     "data": {
      "text/html": [
       "<div>\n",
       "<style scoped>\n",
       "    .dataframe tbody tr th:only-of-type {\n",
       "        vertical-align: middle;\n",
       "    }\n",
       "\n",
       "    .dataframe tbody tr th {\n",
       "        vertical-align: top;\n",
       "    }\n",
       "\n",
       "    .dataframe thead th {\n",
       "        text-align: right;\n",
       "    }\n",
       "</style>\n",
       "<table border=\"1\" class=\"dataframe\">\n",
       "  <thead>\n",
       "    <tr style=\"text-align: right;\">\n",
       "      <th></th>\n",
       "      <th>max_depth</th>\n",
       "      <th>rmse_train</th>\n",
       "      <th>rmse_test</th>\n",
       "    </tr>\n",
       "  </thead>\n",
       "  <tbody>\n",
       "    <tr>\n",
       "      <th>0</th>\n",
       "      <td>2</td>\n",
       "      <td>14.951628</td>\n",
       "      <td>15.174393</td>\n",
       "    </tr>\n",
       "    <tr>\n",
       "      <th>1</th>\n",
       "      <td>5</td>\n",
       "      <td>14.122533</td>\n",
       "      <td>14.497210</td>\n",
       "    </tr>\n",
       "    <tr>\n",
       "      <th>2</th>\n",
       "      <td>8</td>\n",
       "      <td>13.523693</td>\n",
       "      <td>14.122774</td>\n",
       "    </tr>\n",
       "    <tr>\n",
       "      <th>3</th>\n",
       "      <td>10</td>\n",
       "      <td>13.139617</td>\n",
       "      <td>14.025883</td>\n",
       "    </tr>\n",
       "    <tr>\n",
       "      <th>4</th>\n",
       "      <td>15</td>\n",
       "      <td>12.048870</td>\n",
       "      <td>14.367155</td>\n",
       "    </tr>\n",
       "    <tr>\n",
       "      <th>5</th>\n",
       "      <td>20</td>\n",
       "      <td>11.099972</td>\n",
       "      <td>14.487420</td>\n",
       "    </tr>\n",
       "    <tr>\n",
       "      <th>6</th>\n",
       "      <td>30</td>\n",
       "      <td>9.498536</td>\n",
       "      <td>14.996062</td>\n",
       "    </tr>\n",
       "    <tr>\n",
       "      <th>7</th>\n",
       "      <td>50</td>\n",
       "      <td>5.425101</td>\n",
       "      <td>16.659863</td>\n",
       "    </tr>\n",
       "    <tr>\n",
       "      <th>8</th>\n",
       "      <td>70</td>\n",
       "      <td>1.124845</td>\n",
       "      <td>17.435227</td>\n",
       "    </tr>\n",
       "    <tr>\n",
       "      <th>9</th>\n",
       "      <td>100</td>\n",
       "      <td>0.000005</td>\n",
       "      <td>17.406806</td>\n",
       "    </tr>\n",
       "    <tr>\n",
       "      <th>10</th>\n",
       "      <td>150</td>\n",
       "      <td>0.000005</td>\n",
       "      <td>17.433838</td>\n",
       "    </tr>\n",
       "  </tbody>\n",
       "</table>\n",
       "</div>"
      ],
      "text/plain": [
       "    max_depth  rmse_train  rmse_test\n",
       "0           2   14.951628  15.174393\n",
       "1           5   14.122533  14.497210\n",
       "2           8   13.523693  14.122774\n",
       "3          10   13.139617  14.025883\n",
       "4          15   12.048870  14.367155\n",
       "5          20   11.099972  14.487420\n",
       "6          30    9.498536  14.996062\n",
       "7          50    5.425101  16.659863\n",
       "8          70    1.124845  17.435227\n",
       "9         100    0.000005  17.406806\n",
       "10        150    0.000005  17.433838"
      ]
     },
     "execution_count": 89,
     "metadata": {},
     "output_type": "execute_result"
    }
   ],
   "source": [
    "rmse_scores_ = pd.DataFrame.from_dict(rmse_scores)\n",
    "rmse_scores_"
   ]
  },
  {
   "cell_type": "code",
   "execution_count": 92,
   "metadata": {},
   "outputs": [
    {
     "data": {
      "text/plain": [
       "Text(0, 0.5, 'root mean squared error')"
      ]
     },
     "execution_count": 92,
     "metadata": {},
     "output_type": "execute_result"
    },
    {
     "data": {
      "image/png": "[encoded data removed]",
      "text/plain": [
       "<Figure size 720x360 with 1 Axes>"
      ]
     },
     "metadata": {
      "needs_background": "light"
     },
     "output_type": "display_data"
    }
   ],
   "source": [
    "ax = rmse_scores_.plot(figsize = (10,5), x = \"max_depth\", title=\"rmse of training vs. testing datasets\")\n",
    "ax.set_xlabel(\"max depth\", fontsize=15)\n",
    "ax.set_ylabel(\"root mean squared error\", fontsize=15)"
   ]
  },
  {
   "cell_type": "markdown",
   "metadata": {},
   "source": [
    "## 7.2. Random forest <a id='random_forest'></a>"
   ]
  },
  {
   "cell_type": "markdown",
   "metadata": {},
   "source": [
    "## 7.3. Comparing algorithm performances <a id='comparing_algorithm_performances'></a>"
   ]
  },
  {
   "cell_type": "markdown",
   "metadata": {},
   "source": [
    "# 8. Tuning <a id='tuning'></a>\n",
    "[Back to top](#table_of_contents)"
   ]
  }
 ],
 "metadata": {
  "kernelspec": {
   "display_name": "Python 3",
   "language": "python",
   "name": "python3"
  },
  "language_info": {
   "codemirror_mode": {
    "name": "ipython",
    "version": 3
   },
   "file_extension": ".py",
   "mimetype": "text/x-python",
   "name": "python",
   "nbconvert_exporter": "python",
   "pygments_lexer": "ipython3",
   "version": "3.7.6"
  }
 },
 "nbformat": 4,
 "nbformat_minor": 4
}
